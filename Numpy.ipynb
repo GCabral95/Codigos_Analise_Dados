{
 "cells": [
  {
   "cell_type": "code",
   "execution_count": 1,
   "metadata": {},
   "outputs": [],
   "source": [
    "import numpy as np"
   ]
  },
  {
   "cell_type": "code",
   "execution_count": 26,
   "metadata": {},
   "outputs": [
    {
     "name": "stdout",
     "output_type": "stream",
     "text": [
      "[1 2 3 4]\n",
      "[[1 2 3]\n",
      " [4 5 6]]\n"
     ]
    }
   ],
   "source": [
    "# Array de 1 e 2 dimensões\n",
    "one_dim = np.array([1,2,3,4])\n",
    "two_dim = np.array([(1,2,3), (4,5,6)])\n",
    "print(one_dim)\n",
    "print(two_dim)"
   ]
  },
  {
   "cell_type": "code",
   "execution_count": 4,
   "metadata": {},
   "outputs": [
    {
     "name": "stdout",
     "output_type": "stream",
     "text": [
      "[[0.13501408 0.00478674]\n",
      " [0.40867934 0.68988681]\n",
      " [0.14655346 0.78237904]\n",
      " [0.54208505 0.0614782 ]\n",
      " [0.59528021 0.98225821]]\n"
     ]
    }
   ],
   "source": [
    "# Cria um array de números aleatórios.\n",
    "# Um array de 5 linhas e duas dimensões.\n",
    "x = np.random.random((5,2))\n",
    "print(x)"
   ]
  },
  {
   "cell_type": "code",
   "execution_count": 10,
   "metadata": {},
   "outputs": [
    {
     "name": "stdout",
     "output_type": "stream",
     "text": [
      "2\n",
      "6\n",
      "3.5\n",
      "1.707825127659933\n",
      "6\n"
     ]
    }
   ],
   "source": [
    "# Retorna a quantidade de dimensões.\n",
    "print(two_dim.ndim)\n",
    "# Imprimindo o valor máximo do array.\n",
    "print(two_dim.max())\n",
    "# Imprimindo o valor médio.\n",
    "print(two_dim.mean())\n",
    "# Imprimindo o desvio padrão.\n",
    "print(two_dim.std())\n",
    "# mostra a quantidade\n",
    "print(two_dim.size)"
   ]
  },
  {
   "cell_type": "code",
   "execution_count": 20,
   "metadata": {},
   "outputs": [
    {
     "name": "stdout",
     "output_type": "stream",
     "text": [
      "[[0.30114802 0.46143327 0.61848131]\n",
      " [0.15208703 0.29638155 0.51855147]\n",
      " [0.68206435 0.90261488 0.0404644 ]\n",
      " [0.83276701 0.10272954 0.0182396 ]\n",
      " [0.18766511 0.78134058 0.12306935]]\n"
     ]
    }
   ],
   "source": [
    "tree = np.random.random((5,3))\n",
    "print(tree)"
   ]
  },
  {
   "cell_type": "code",
   "execution_count": 21,
   "metadata": {},
   "outputs": [
    {
     "data": {
      "text/plain": [
       "array([[0.30114802, 0.46143327, 0.61848131, 0.15208703, 0.29638155],\n",
       "       [0.51855147, 0.68206435, 0.90261488, 0.0404644 , 0.83276701],\n",
       "       [0.10272954, 0.0182396 , 0.18766511, 0.78134058, 0.12306935]])"
      ]
     },
     "execution_count": 21,
     "metadata": {},
     "output_type": "execute_result"
    }
   ],
   "source": [
    "# Transforma em uma matriz com 3 linhas e 5 colunas\n",
    "tree.reshape(3,5)"
   ]
  },
  {
   "cell_type": "code",
   "execution_count": 27,
   "metadata": {},
   "outputs": [
    {
     "data": {
      "text/plain": [
       "array([7, 1, 2, 3, 4, 5, 6])"
      ]
     },
     "execution_count": 27,
     "metadata": {},
     "output_type": "execute_result"
    }
   ],
   "source": [
    "# Adicionando elementos a um array.\n",
    "two_dim = np.insert(two_dim,0,7) #adiciona 7 na posicao 0\n",
    "two_dim"
   ]
  },
  {
   "cell_type": "code",
   "execution_count": 28,
   "metadata": {},
   "outputs": [
    {
     "data": {
      "text/plain": [
       "array([1, 2, 3, 4, 5, 6])"
      ]
     },
     "execution_count": 28,
     "metadata": {},
     "output_type": "execute_result"
    }
   ],
   "source": [
    "# Apagando o elemento da primeira posição do array.\n",
    "two_dim = np.delete(two_dim,[0])\n",
    "two_dim"
   ]
  },
  {
   "cell_type": "code",
   "execution_count": 32,
   "metadata": {},
   "outputs": [
    {
     "data": {
      "text/plain": [
       "array([[0.03831613, 0.76182179],\n",
       "       [0.40124224, 0.80549727],\n",
       "       [0.95681863, 0.29435484],\n",
       "       [0.15157621, 0.15360168],\n",
       "       [0.54458908, 0.65217533],\n",
       "       [0.16075212, 0.03935662],\n",
       "       [0.94978684, 0.04487105],\n",
       "       [0.80971448, 0.02119393],\n",
       "       [0.75044573, 0.90495769],\n",
       "       [0.49679683, 0.63745125]])"
      ]
     },
     "execution_count": 32,
     "metadata": {},
     "output_type": "execute_result"
    }
   ],
   "source": [
    "my_array = np.random.random([10,2])\n",
    "my_array"
   ]
  },
  {
   "cell_type": "code",
   "execution_count": 33,
   "metadata": {},
   "outputs": [
    {
     "data": {
      "text/plain": [
       "0.03831613008974388"
      ]
     },
     "execution_count": 33,
     "metadata": {},
     "output_type": "execute_result"
    }
   ],
   "source": [
    "# Imprimindo o primeiro elemento da coluna 0 (1 coluna)\n",
    "my_array[0][0]"
   ]
  },
  {
   "cell_type": "code",
   "execution_count": 34,
   "metadata": {},
   "outputs": [
    {
     "data": {
      "text/plain": [
       "array([0.76182179, 0.80549727, 0.29435484])"
      ]
     },
     "execution_count": 34,
     "metadata": {},
     "output_type": "execute_result"
    }
   ],
   "source": [
    "# Imprimindo até 3 valores da coluna 1\n",
    "my_array[:3,1]"
   ]
  },
  {
   "cell_type": "code",
   "execution_count": 35,
   "metadata": {},
   "outputs": [
    {
     "data": {
      "text/plain": [
       "array([7.61821785, 8.05497269, 2.94354836, 1.53601681, 6.52175331,\n",
       "       0.39356622, 0.44871048, 0.21193935, 9.0495769 , 6.37451245])"
      ]
     },
     "execution_count": 35,
     "metadata": {},
     "output_type": "execute_result"
    }
   ],
   "source": [
    "# Imprime todas as linhas da coluna 2 * 10\n",
    "my_array[:,1] * 10"
   ]
  },
  {
   "cell_type": "code",
   "execution_count": 36,
   "metadata": {},
   "outputs": [
    {
     "data": {
      "text/plain": [
       "array([0.76182179, 0.80549727, 0.95681863, 0.54458908, 0.65217533,\n",
       "       0.94978684, 0.80971448, 0.75044573, 0.90495769, 0.63745125])"
      ]
     },
     "execution_count": 36,
     "metadata": {},
     "output_type": "execute_result"
    }
   ],
   "source": [
    "# Acessando valores por índices\n",
    "my_array[my_array > 0.50]"
   ]
  },
  {
   "cell_type": "code",
   "execution_count": null,
   "metadata": {},
   "outputs": [],
   "source": []
  }
 ],
 "metadata": {
  "kernelspec": {
   "display_name": "Python 3",
   "language": "python",
   "name": "python3"
  },
  "language_info": {
   "codemirror_mode": {
    "name": "ipython",
    "version": 3
   },
   "file_extension": ".py",
   "mimetype": "text/x-python",
   "name": "python",
   "nbconvert_exporter": "python",
   "pygments_lexer": "ipython3",
   "version": "3.7.1"
  }
 },
 "nbformat": 4,
 "nbformat_minor": 2
}
