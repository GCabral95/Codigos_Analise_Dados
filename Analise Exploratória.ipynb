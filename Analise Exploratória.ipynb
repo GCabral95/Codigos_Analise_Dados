{
 "cells": [
  {
   "cell_type": "code",
   "execution_count": 48,
   "metadata": {},
   "outputs": [],
   "source": [
    "import pandas as pd\n",
    "import numpy as np\n",
    "import matplotlib.pyplot as plt\n",
    "import seaborn as sns"
   ]
  },
  {
   "cell_type": "code",
   "execution_count": 2,
   "metadata": {},
   "outputs": [],
   "source": [
    "df = pd.read_csv('quiqua.csv', sep=\";\")"
   ]
  },
  {
   "cell_type": "code",
   "execution_count": 3,
   "metadata": {},
   "outputs": [
    {
     "data": {
      "text/html": [
       "<div>\n",
       "<style scoped>\n",
       "    .dataframe tbody tr th:only-of-type {\n",
       "        vertical-align: middle;\n",
       "    }\n",
       "\n",
       "    .dataframe tbody tr th {\n",
       "        vertical-align: top;\n",
       "    }\n",
       "\n",
       "    .dataframe thead th {\n",
       "        text-align: right;\n",
       "    }\n",
       "</style>\n",
       "<table border=\"1\" class=\"dataframe\">\n",
       "  <thead>\n",
       "    <tr style=\"text-align: right;\">\n",
       "      <th></th>\n",
       "      <th>Renda</th>\n",
       "      <th>Estado</th>\n",
       "      <th>Escolaridade</th>\n",
       "      <th>Anos_Estudo</th>\n",
       "      <th>Estado_Civil</th>\n",
       "      <th>Gasto</th>\n",
       "    </tr>\n",
       "  </thead>\n",
       "  <tbody>\n",
       "    <tr>\n",
       "      <th>0</th>\n",
       "      <td>5948</td>\n",
       "      <td>MG</td>\n",
       "      <td>Superior</td>\n",
       "      <td>9</td>\n",
       "      <td>Solteiro</td>\n",
       "      <td>3000</td>\n",
       "    </tr>\n",
       "    <tr>\n",
       "      <th>1</th>\n",
       "      <td>5870</td>\n",
       "      <td>MG</td>\n",
       "      <td>Superior</td>\n",
       "      <td>8</td>\n",
       "      <td>Solteiro</td>\n",
       "      <td>2600</td>\n",
       "    </tr>\n",
       "    <tr>\n",
       "      <th>2</th>\n",
       "      <td>5710</td>\n",
       "      <td>GO</td>\n",
       "      <td>Superior</td>\n",
       "      <td>9</td>\n",
       "      <td>Casado</td>\n",
       "      <td>2700</td>\n",
       "    </tr>\n",
       "    <tr>\n",
       "      <th>3</th>\n",
       "      <td>5660</td>\n",
       "      <td>RJ</td>\n",
       "      <td>Médio</td>\n",
       "      <td>7</td>\n",
       "      <td>Casado</td>\n",
       "      <td>3100</td>\n",
       "    </tr>\n",
       "    <tr>\n",
       "      <th>4</th>\n",
       "      <td>5351</td>\n",
       "      <td>SP</td>\n",
       "      <td>Superior</td>\n",
       "      <td>8</td>\n",
       "      <td>Solteiro</td>\n",
       "      <td>2000</td>\n",
       "    </tr>\n",
       "  </tbody>\n",
       "</table>\n",
       "</div>"
      ],
      "text/plain": [
       "   Renda Estado Escolaridade  Anos_Estudo Estado_Civil  Gasto\n",
       "0   5948     MG     Superior            9     Solteiro   3000\n",
       "1   5870     MG     Superior            8     Solteiro   2600\n",
       "2   5710     GO     Superior            9       Casado   2700\n",
       "3   5660     RJ        Médio            7       Casado   3100\n",
       "4   5351     SP     Superior            8     Solteiro   2000"
      ]
     },
     "execution_count": 3,
     "metadata": {},
     "output_type": "execute_result"
    }
   ],
   "source": [
    "df.head()"
   ]
  },
  {
   "cell_type": "markdown",
   "metadata": {},
   "source": [
    "# Frequencias"
   ]
  },
  {
   "cell_type": "code",
   "execution_count": 4,
   "metadata": {},
   "outputs": [
    {
     "data": {
      "text/plain": [
       "SP    5\n",
       "MG    4\n",
       "RJ    4\n",
       "TO    3\n",
       "GO    3\n",
       "RS    2\n",
       "Name: Estado, dtype: int64"
      ]
     },
     "execution_count": 4,
     "metadata": {},
     "output_type": "execute_result"
    }
   ],
   "source": [
    "#Absoluta\n",
    "pd.value_counts(df['Estado'])"
   ]
  },
  {
   "cell_type": "code",
   "execution_count": 5,
   "metadata": {},
   "outputs": [
    {
     "data": {
      "text/plain": [
       "SP    0.238095\n",
       "MG    0.190476\n",
       "RJ    0.190476\n",
       "TO    0.142857\n",
       "GO    0.142857\n",
       "RS    0.095238\n",
       "Name: Estado, dtype: float64"
      ]
     },
     "execution_count": 5,
     "metadata": {},
     "output_type": "execute_result"
    }
   ],
   "source": [
    "#Relativa\n",
    "(pd.value_counts(df['Estado'])/len(df))"
   ]
  },
  {
   "cell_type": "code",
   "execution_count": 6,
   "metadata": {},
   "outputs": [
    {
     "data": {
      "text/html": [
       "<div>\n",
       "<style scoped>\n",
       "    .dataframe tbody tr th:only-of-type {\n",
       "        vertical-align: middle;\n",
       "    }\n",
       "\n",
       "    .dataframe tbody tr th {\n",
       "        vertical-align: top;\n",
       "    }\n",
       "\n",
       "    .dataframe thead th {\n",
       "        text-align: right;\n",
       "    }\n",
       "</style>\n",
       "<table border=\"1\" class=\"dataframe\">\n",
       "  <thead>\n",
       "    <tr style=\"text-align: right;\">\n",
       "      <th>Escolaridade</th>\n",
       "      <th>Fundamental</th>\n",
       "      <th>Médio</th>\n",
       "      <th>Superior</th>\n",
       "    </tr>\n",
       "    <tr>\n",
       "      <th>Estado</th>\n",
       "      <th></th>\n",
       "      <th></th>\n",
       "      <th></th>\n",
       "    </tr>\n",
       "  </thead>\n",
       "  <tbody>\n",
       "    <tr>\n",
       "      <th>GO</th>\n",
       "      <td>0.666667</td>\n",
       "      <td>0.000000</td>\n",
       "      <td>0.333333</td>\n",
       "    </tr>\n",
       "    <tr>\n",
       "      <th>MG</th>\n",
       "      <td>0.500000</td>\n",
       "      <td>0.000000</td>\n",
       "      <td>0.500000</td>\n",
       "    </tr>\n",
       "    <tr>\n",
       "      <th>RJ</th>\n",
       "      <td>0.500000</td>\n",
       "      <td>0.500000</td>\n",
       "      <td>0.000000</td>\n",
       "    </tr>\n",
       "    <tr>\n",
       "      <th>RS</th>\n",
       "      <td>0.500000</td>\n",
       "      <td>0.000000</td>\n",
       "      <td>0.500000</td>\n",
       "    </tr>\n",
       "    <tr>\n",
       "      <th>SP</th>\n",
       "      <td>0.000000</td>\n",
       "      <td>0.800000</td>\n",
       "      <td>0.200000</td>\n",
       "    </tr>\n",
       "    <tr>\n",
       "      <th>TO</th>\n",
       "      <td>0.333333</td>\n",
       "      <td>0.333333</td>\n",
       "      <td>0.333333</td>\n",
       "    </tr>\n",
       "  </tbody>\n",
       "</table>\n",
       "</div>"
      ],
      "text/plain": [
       "Escolaridade  Fundamental     Médio  Superior\n",
       "Estado                                       \n",
       "GO               0.666667  0.000000  0.333333\n",
       "MG               0.500000  0.000000  0.500000\n",
       "RJ               0.500000  0.500000  0.000000\n",
       "RS               0.500000  0.000000  0.500000\n",
       "SP               0.000000  0.800000  0.200000\n",
       "TO               0.333333  0.333333  0.333333"
      ]
     },
     "execution_count": 6,
     "metadata": {},
     "output_type": "execute_result"
    }
   ],
   "source": [
    "pd.crosstab(df['Estado'],df['Escolaridade']).apply(lambda r: r/r.sum(), axis=1) #total por colunas"
   ]
  },
  {
   "cell_type": "code",
   "execution_count": 7,
   "metadata": {},
   "outputs": [
    {
     "data": {
      "text/html": [
       "<div>\n",
       "<style scoped>\n",
       "    .dataframe tbody tr th:only-of-type {\n",
       "        vertical-align: middle;\n",
       "    }\n",
       "\n",
       "    .dataframe tbody tr th {\n",
       "        vertical-align: top;\n",
       "    }\n",
       "\n",
       "    .dataframe thead th {\n",
       "        text-align: right;\n",
       "    }\n",
       "</style>\n",
       "<table border=\"1\" class=\"dataframe\">\n",
       "  <thead>\n",
       "    <tr style=\"text-align: right;\">\n",
       "      <th>Escolaridade</th>\n",
       "      <th>Fundamental</th>\n",
       "      <th>Médio</th>\n",
       "      <th>Superior</th>\n",
       "    </tr>\n",
       "    <tr>\n",
       "      <th>Estado</th>\n",
       "      <th></th>\n",
       "      <th></th>\n",
       "      <th></th>\n",
       "    </tr>\n",
       "  </thead>\n",
       "  <tbody>\n",
       "    <tr>\n",
       "      <th>GO</th>\n",
       "      <td>0.250</td>\n",
       "      <td>0.000000</td>\n",
       "      <td>0.166667</td>\n",
       "    </tr>\n",
       "    <tr>\n",
       "      <th>MG</th>\n",
       "      <td>0.250</td>\n",
       "      <td>0.000000</td>\n",
       "      <td>0.333333</td>\n",
       "    </tr>\n",
       "    <tr>\n",
       "      <th>RJ</th>\n",
       "      <td>0.250</td>\n",
       "      <td>0.285714</td>\n",
       "      <td>0.000000</td>\n",
       "    </tr>\n",
       "    <tr>\n",
       "      <th>RS</th>\n",
       "      <td>0.125</td>\n",
       "      <td>0.000000</td>\n",
       "      <td>0.166667</td>\n",
       "    </tr>\n",
       "    <tr>\n",
       "      <th>SP</th>\n",
       "      <td>0.000</td>\n",
       "      <td>0.571429</td>\n",
       "      <td>0.166667</td>\n",
       "    </tr>\n",
       "    <tr>\n",
       "      <th>TO</th>\n",
       "      <td>0.125</td>\n",
       "      <td>0.142857</td>\n",
       "      <td>0.166667</td>\n",
       "    </tr>\n",
       "  </tbody>\n",
       "</table>\n",
       "</div>"
      ],
      "text/plain": [
       "Escolaridade  Fundamental     Médio  Superior\n",
       "Estado                                       \n",
       "GO                  0.250  0.000000  0.166667\n",
       "MG                  0.250  0.000000  0.333333\n",
       "RJ                  0.250  0.285714  0.000000\n",
       "RS                  0.125  0.000000  0.166667\n",
       "SP                  0.000  0.571429  0.166667\n",
       "TO                  0.125  0.142857  0.166667"
      ]
     },
     "execution_count": 7,
     "metadata": {},
     "output_type": "execute_result"
    }
   ],
   "source": [
    "pd.crosstab(df['Estado'],df['Escolaridade']).apply(lambda r: r/r.sum(), axis=0) #total por linhas"
   ]
  },
  {
   "cell_type": "markdown",
   "metadata": {},
   "source": [
    "# Medidas - Univariado"
   ]
  },
  {
   "cell_type": "code",
   "execution_count": 8,
   "metadata": {},
   "outputs": [
    {
     "name": "stdout",
     "output_type": "stream",
     "text": [
      "3852.5238095238096\n",
      "4454\n",
      "1751.1335648387196\n",
      "0.45454191886102013\n"
     ]
    }
   ],
   "source": [
    "import statistics as st\n",
    "print(df['Renda'].mean()) #calculo da média\n",
    "print(st.median(df['Renda'])) #mediana\n",
    "print(st.stdev(df['Renda'])) #desvio-padrao amostral\n",
    "print(st.stdev(df['Renda'])/df['Renda'].mean()) #coeficiente de variacao - desvio padrao dividido pela media"
   ]
  },
  {
   "cell_type": "code",
   "execution_count": 9,
   "metadata": {},
   "outputs": [
    {
     "data": {
      "text/plain": [
       "0.10    1452.0\n",
       "0.50    4454.0\n",
       "0.75    5312.0\n",
       "0.90    5710.0\n",
       "Name: Renda, dtype: float64"
      ]
     },
     "execution_count": 9,
     "metadata": {},
     "output_type": "execute_result"
    }
   ],
   "source": [
    "df['Renda'].quantile([.1,.5,.75,0.9]) #quantis"
   ]
  },
  {
   "cell_type": "code",
   "execution_count": 10,
   "metadata": {},
   "outputs": [
    {
     "data": {
      "text/plain": [
       "4559.628318584071"
      ]
     },
     "execution_count": 10,
     "metadata": {},
     "output_type": "execute_result"
    }
   ],
   "source": [
    "np.average(df['Renda'], weights=df['Anos_Estudo']) #média de renda ponderada por anos de estudo"
   ]
  },
  {
   "cell_type": "code",
   "execution_count": 57,
   "metadata": {},
   "outputs": [
    {
     "name": "stdout",
     "output_type": "stream",
     "text": [
      "0.644278311823383\n"
     ]
    }
   ],
   "source": [
    "print(df['Gasto'].skew()) #medida de assimetria"
   ]
  },
  {
   "cell_type": "code",
   "execution_count": 60,
   "metadata": {},
   "outputs": [
    {
     "data": {
      "text/plain": [
       "<seaborn.axisgrid.FacetGrid at 0x248e52cf588>"
      ]
     },
     "execution_count": 60,
     "metadata": {},
     "output_type": "execute_result"
    },
    {
     "data": {
      "image/png": "[encoded data removed]",
      "text/plain": [
       "<Figure size 360x360 with 1 Axes>"
      ]
     },
     "metadata": {
      "needs_background": "light"
     },
     "output_type": "display_data"
    }
   ],
   "source": [
    "sns.displot(df[\"Gasto\"], bins=5, kde=True)"
   ]
  },
  {
   "cell_type": "code",
   "execution_count": 54,
   "metadata": {},
   "outputs": [
    {
     "data": {
      "text/plain": [
       "-1.5005089035133707"
      ]
     },
     "execution_count": 54,
     "metadata": {},
     "output_type": "execute_result"
    }
   ],
   "source": [
    "df['Renda'].kurtosis() #medida de curtose"
   ]
  },
  {
   "cell_type": "code",
   "execution_count": 62,
   "metadata": {},
   "outputs": [
    {
     "data": {
      "text/plain": [
       "<seaborn.axisgrid.FacetGrid at 0x248e2da2358>"
      ]
     },
     "execution_count": 62,
     "metadata": {},
     "output_type": "execute_result"
    },
    {
     "data": {
      "image/png": "[encoded data removed]",
      "text/plain": [
       "<Figure size 360x360 with 1 Axes>"
      ]
     },
     "metadata": {
      "needs_background": "light"
     },
     "output_type": "display_data"
    }
   ],
   "source": [
    "sns.displot(df[\"Renda\"], bins=5, kde=True)"
   ]
  },
  {
   "cell_type": "markdown",
   "metadata": {},
   "source": [
    "# Medidas - Multivariado"
   ]
  },
  {
   "cell_type": "code",
   "execution_count": 11,
   "metadata": {},
   "outputs": [
    {
     "data": {
      "text/html": [
       "<div>\n",
       "<style scoped>\n",
       "    .dataframe tbody tr th:only-of-type {\n",
       "        vertical-align: middle;\n",
       "    }\n",
       "\n",
       "    .dataframe tbody tr th {\n",
       "        vertical-align: top;\n",
       "    }\n",
       "\n",
       "    .dataframe thead th {\n",
       "        text-align: right;\n",
       "    }\n",
       "</style>\n",
       "<table border=\"1\" class=\"dataframe\">\n",
       "  <thead>\n",
       "    <tr style=\"text-align: right;\">\n",
       "      <th></th>\n",
       "      <th>Renda</th>\n",
       "      <th>Anos_Estudo</th>\n",
       "    </tr>\n",
       "  </thead>\n",
       "  <tbody>\n",
       "    <tr>\n",
       "      <th>Renda</th>\n",
       "      <td>1.000000</td>\n",
       "      <td>0.927955</td>\n",
       "    </tr>\n",
       "    <tr>\n",
       "      <th>Anos_Estudo</th>\n",
       "      <td>0.927955</td>\n",
       "      <td>1.000000</td>\n",
       "    </tr>\n",
       "  </tbody>\n",
       "</table>\n",
       "</div>"
      ],
      "text/plain": [
       "                Renda  Anos_Estudo\n",
       "Renda        1.000000     0.927955\n",
       "Anos_Estudo  0.927955     1.000000"
      ]
     },
     "execution_count": 11,
     "metadata": {},
     "output_type": "execute_result"
    }
   ],
   "source": [
    "#Correlação de spearman entre colunas quantitativas\n",
    "df[['Renda','Anos_Estudo']].corr('spearman')"
   ]
  },
  {
   "cell_type": "code",
   "execution_count": 12,
   "metadata": {},
   "outputs": [],
   "source": [
    "from scipy.stats import chi2_contingency"
   ]
  },
  {
   "cell_type": "code",
   "execution_count": 13,
   "metadata": {},
   "outputs": [
    {
     "data": {
      "text/html": [
       "<div>\n",
       "<style scoped>\n",
       "    .dataframe tbody tr th:only-of-type {\n",
       "        vertical-align: middle;\n",
       "    }\n",
       "\n",
       "    .dataframe tbody tr th {\n",
       "        vertical-align: top;\n",
       "    }\n",
       "\n",
       "    .dataframe thead th {\n",
       "        text-align: right;\n",
       "    }\n",
       "</style>\n",
       "<table border=\"1\" class=\"dataframe\">\n",
       "  <thead>\n",
       "    <tr style=\"text-align: right;\">\n",
       "      <th></th>\n",
       "      <th>Var1</th>\n",
       "      <th>Var2</th>\n",
       "      <th>xsq</th>\n",
       "      <th>pvalue</th>\n",
       "      <th>vcramer</th>\n",
       "    </tr>\n",
       "  </thead>\n",
       "  <tbody>\n",
       "    <tr>\n",
       "      <th>1</th>\n",
       "      <td>Estado</td>\n",
       "      <td>Estado_Civil</td>\n",
       "      <td>14.986364</td>\n",
       "      <td>0.010421</td>\n",
       "      <td>0.844770</td>\n",
       "    </tr>\n",
       "    <tr>\n",
       "      <th>4</th>\n",
       "      <td>Estado_Civil</td>\n",
       "      <td>Estado</td>\n",
       "      <td>14.986364</td>\n",
       "      <td>0.010421</td>\n",
       "      <td>0.844770</td>\n",
       "    </tr>\n",
       "    <tr>\n",
       "      <th>0</th>\n",
       "      <td>Estado</td>\n",
       "      <td>Escolaridade</td>\n",
       "      <td>11.820833</td>\n",
       "      <td>0.297226</td>\n",
       "      <td>0.530517</td>\n",
       "    </tr>\n",
       "    <tr>\n",
       "      <th>2</th>\n",
       "      <td>Escolaridade</td>\n",
       "      <td>Estado</td>\n",
       "      <td>11.820833</td>\n",
       "      <td>0.297226</td>\n",
       "      <td>0.530517</td>\n",
       "    </tr>\n",
       "    <tr>\n",
       "      <th>3</th>\n",
       "      <td>Escolaridade</td>\n",
       "      <td>Estado_Civil</td>\n",
       "      <td>1.742045</td>\n",
       "      <td>0.418523</td>\n",
       "      <td>0.288018</td>\n",
       "    </tr>\n",
       "    <tr>\n",
       "      <th>5</th>\n",
       "      <td>Estado_Civil</td>\n",
       "      <td>Escolaridade</td>\n",
       "      <td>1.742045</td>\n",
       "      <td>0.418523</td>\n",
       "      <td>0.288018</td>\n",
       "    </tr>\n",
       "  </tbody>\n",
       "</table>\n",
       "</div>"
      ],
      "text/plain": [
       "           Var1          Var2        xsq    pvalue   vcramer\n",
       "1        Estado  Estado_Civil  14.986364  0.010421  0.844770\n",
       "4  Estado_Civil        Estado  14.986364  0.010421  0.844770\n",
       "0        Estado  Escolaridade  11.820833  0.297226  0.530517\n",
       "2  Escolaridade        Estado  11.820833  0.297226  0.530517\n",
       "3  Escolaridade  Estado_Civil   1.742045  0.418523  0.288018\n",
       "5  Estado_Civil  Escolaridade   1.742045  0.418523  0.288018"
      ]
     },
     "execution_count": 13,
     "metadata": {},
     "output_type": "execute_result"
    }
   ],
   "source": [
    "#Calcular qui-quadrado e vcramer, medidas de associação entre variáveis categóricas. Quanto maior o vcramer, maior a associação\n",
    "# entre as variáveis\n",
    "CATVAR = df.select_dtypes(include=['object']).columns.tolist() #cria uma lista das variaveis categoricas\n",
    "chimap = pd.DataFrame(columns=['Var1','Var2','xsq','pvalue','vcramer']) #cria dataframe para inserir valores do chisquare\n",
    "for x in CATVAR:\n",
    "    for y in CATVAR:\n",
    "        if x != y:\n",
    "            chi = df.pivot_table('Renda',index= [x],columns= [y] ,aggfunc = 'count')\n",
    "            chi=chi.replace(np.nan,0)\n",
    "            xsq,pvalue,dof,expected=chi2_contingency(chi)\n",
    "            a = min(len(df[x].unique()),len(df[y].unique()))\n",
    "            b = len(df[x])\n",
    "            vcramer = (xsq/(b*(a-1)))**(1/2)\n",
    "            chimap = chimap.append({'Var1' : x, 'Var2' : y, 'xsq': xsq, 'pvalue': pvalue, 'vcramer':vcramer}, ignore_index=True)\n",
    "chimap = chimap.sort_values(by = 'vcramer', ascending = False)\n",
    "chimap"
   ]
  },
  {
   "cell_type": "code",
   "execution_count": 14,
   "metadata": {},
   "outputs": [],
   "source": [
    "CATVAR = df.select_dtypes(include=['object']).columns.tolist()\n",
    "NUMVAR = df.select_dtypes(include=['float64','int64']).columns.tolist()"
   ]
  },
  {
   "cell_type": "code",
   "execution_count": 15,
   "metadata": {},
   "outputs": [],
   "source": [
    "#Calculo do R2 - Medida de associação entre uma variável quantitativa e qualitativa\n",
    "#R2 alto e positivo significa uma correlação positiva entre as variáveis. R2 alto e negativo significa uma correlaçao negativa"
   ]
  },
  {
   "cell_type": "code",
   "execution_count": 16,
   "metadata": {},
   "outputs": [
    {
     "data": {
      "text/html": [
       "<div>\n",
       "<style scoped>\n",
       "    .dataframe tbody tr th:only-of-type {\n",
       "        vertical-align: middle;\n",
       "    }\n",
       "\n",
       "    .dataframe tbody tr th {\n",
       "        vertical-align: top;\n",
       "    }\n",
       "\n",
       "    .dataframe thead th {\n",
       "        text-align: right;\n",
       "    }\n",
       "</style>\n",
       "<table border=\"1\" class=\"dataframe\">\n",
       "  <thead>\n",
       "    <tr style=\"text-align: right;\">\n",
       "      <th></th>\n",
       "      <th>VarQuanti</th>\n",
       "      <th>VarQuali</th>\n",
       "      <th>var*n / n_total</th>\n",
       "      <th>R2</th>\n",
       "    </tr>\n",
       "  </thead>\n",
       "  <tbody>\n",
       "    <tr>\n",
       "      <th>1</th>\n",
       "      <td>Renda</td>\n",
       "      <td>Escolaridade</td>\n",
       "      <td>1.279860e+06</td>\n",
       "      <td>0.582627</td>\n",
       "    </tr>\n",
       "    <tr>\n",
       "      <th>4</th>\n",
       "      <td>Anos_Estudo</td>\n",
       "      <td>Escolaridade</td>\n",
       "      <td>3.138322e+00</td>\n",
       "      <td>0.497677</td>\n",
       "    </tr>\n",
       "    <tr>\n",
       "      <th>7</th>\n",
       "      <td>Gasto</td>\n",
       "      <td>Escolaridade</td>\n",
       "      <td>6.843639e+05</td>\n",
       "      <td>0.257807</td>\n",
       "    </tr>\n",
       "    <tr>\n",
       "      <th>6</th>\n",
       "      <td>Gasto</td>\n",
       "      <td>Estado</td>\n",
       "      <td>9.251190e+05</td>\n",
       "      <td>-0.003292</td>\n",
       "    </tr>\n",
       "    <tr>\n",
       "      <th>8</th>\n",
       "      <td>Gasto</td>\n",
       "      <td>Estado_Civil</td>\n",
       "      <td>9.353466e+05</td>\n",
       "      <td>-0.014384</td>\n",
       "    </tr>\n",
       "    <tr>\n",
       "      <th>5</th>\n",
       "      <td>Anos_Estudo</td>\n",
       "      <td>Estado_Civil</td>\n",
       "      <td>6.492063e+00</td>\n",
       "      <td>-0.039126</td>\n",
       "    </tr>\n",
       "    <tr>\n",
       "      <th>2</th>\n",
       "      <td>Renda</td>\n",
       "      <td>Estado_Civil</td>\n",
       "      <td>3.211468e+06</td>\n",
       "      <td>-0.047285</td>\n",
       "    </tr>\n",
       "    <tr>\n",
       "      <th>3</th>\n",
       "      <td>Anos_Estudo</td>\n",
       "      <td>Estado</td>\n",
       "      <td>7.436508e+00</td>\n",
       "      <td>-0.190295</td>\n",
       "    </tr>\n",
       "    <tr>\n",
       "      <th>0</th>\n",
       "      <td>Renda</td>\n",
       "      <td>Estado</td>\n",
       "      <td>3.937980e+06</td>\n",
       "      <td>-0.284207</td>\n",
       "    </tr>\n",
       "  </tbody>\n",
       "</table>\n",
       "</div>"
      ],
      "text/plain": [
       "     VarQuanti      VarQuali  var*n / n_total        R2\n",
       "1        Renda  Escolaridade     1.279860e+06  0.582627\n",
       "4  Anos_Estudo  Escolaridade     3.138322e+00  0.497677\n",
       "7        Gasto  Escolaridade     6.843639e+05  0.257807\n",
       "6        Gasto        Estado     9.251190e+05 -0.003292\n",
       "8        Gasto  Estado_Civil     9.353466e+05 -0.014384\n",
       "5  Anos_Estudo  Estado_Civil     6.492063e+00 -0.039126\n",
       "2        Renda  Estado_Civil     3.211468e+06 -0.047285\n",
       "3  Anos_Estudo        Estado     7.436508e+00 -0.190295\n",
       "0        Renda        Estado     3.937980e+06 -0.284207"
      ]
     },
     "execution_count": 16,
     "metadata": {},
     "output_type": "execute_result"
    }
   ],
   "source": [
    "r2 = pd.DataFrame(columns=['VarQuanti','VarQuali','var*n / n_total','R2'])\n",
    "for z in NUMVAR:\n",
    "    for x in CATVAR:\n",
    "        dfr = df[x].value_counts().reset_index()\n",
    "        f = 0\n",
    "        a1 = 0\n",
    "        for y in range(len(dfr)):\n",
    "            a = dfr.iloc[y,1]\n",
    "            a1 = a1 + a\n",
    "            c = (df[df[x] == dfr.iloc[y,0]])\n",
    "            e = (c[z].var())*a\n",
    "            f = f + e\n",
    "        f = f/a1\n",
    "        r2_calc = 1 - (f/df[z].var())\n",
    "        r2 = r2.append({'VarQuanti' : z, 'VarQuali' : x,'var*n / n_total' : f, 'R2' : r2_calc}, ignore_index=True)\n",
    "r2 = r2.sort_values(by = 'R2', ascending = False)\n",
    "r2"
   ]
  },
  {
   "cell_type": "markdown",
   "metadata": {},
   "source": [
    "# Tabelas Cruzadas"
   ]
  },
  {
   "cell_type": "code",
   "execution_count": 17,
   "metadata": {},
   "outputs": [
    {
     "data": {
      "text/html": [
       "<div>\n",
       "<style scoped>\n",
       "    .dataframe tbody tr th:only-of-type {\n",
       "        vertical-align: middle;\n",
       "    }\n",
       "\n",
       "    .dataframe tbody tr th {\n",
       "        vertical-align: top;\n",
       "    }\n",
       "\n",
       "    .dataframe thead th {\n",
       "        text-align: right;\n",
       "    }\n",
       "</style>\n",
       "<table border=\"1\" class=\"dataframe\">\n",
       "  <thead>\n",
       "    <tr style=\"text-align: right;\">\n",
       "      <th></th>\n",
       "      <th></th>\n",
       "      <th>Renda</th>\n",
       "    </tr>\n",
       "    <tr>\n",
       "      <th>Estado</th>\n",
       "      <th>Estado_Civil</th>\n",
       "      <th></th>\n",
       "    </tr>\n",
       "  </thead>\n",
       "  <tbody>\n",
       "    <tr>\n",
       "      <th>GO</th>\n",
       "      <th>Casado</th>\n",
       "      <td>3327.333333</td>\n",
       "    </tr>\n",
       "    <tr>\n",
       "      <th rowspan=\"2\" valign=\"top\">MG</th>\n",
       "      <th>Casado</th>\n",
       "      <td>4950.000000</td>\n",
       "    </tr>\n",
       "    <tr>\n",
       "      <th>Solteiro</th>\n",
       "      <td>4323.333333</td>\n",
       "    </tr>\n",
       "    <tr>\n",
       "      <th rowspan=\"2\" valign=\"top\">RJ</th>\n",
       "      <th>Casado</th>\n",
       "      <td>5660.000000</td>\n",
       "    </tr>\n",
       "    <tr>\n",
       "      <th>Solteiro</th>\n",
       "      <td>3202.333333</td>\n",
       "    </tr>\n",
       "    <tr>\n",
       "      <th>RS</th>\n",
       "      <th>Casado</th>\n",
       "      <td>3401.000000</td>\n",
       "    </tr>\n",
       "    <tr>\n",
       "      <th>SP</th>\n",
       "      <th>Solteiro</th>\n",
       "      <td>4223.600000</td>\n",
       "    </tr>\n",
       "    <tr>\n",
       "      <th>TO</th>\n",
       "      <th>Casado</th>\n",
       "      <td>3271.333333</td>\n",
       "    </tr>\n",
       "    <tr>\n",
       "      <th>All</th>\n",
       "      <th></th>\n",
       "      <td>3852.523810</td>\n",
       "    </tr>\n",
       "  </tbody>\n",
       "</table>\n",
       "</div>"
      ],
      "text/plain": [
       "                           Renda\n",
       "Estado Estado_Civil             \n",
       "GO     Casado        3327.333333\n",
       "MG     Casado        4950.000000\n",
       "       Solteiro      4323.333333\n",
       "RJ     Casado        5660.000000\n",
       "       Solteiro      3202.333333\n",
       "RS     Casado        3401.000000\n",
       "SP     Solteiro      4223.600000\n",
       "TO     Casado        3271.333333\n",
       "All                  3852.523810"
      ]
     },
     "execution_count": 17,
     "metadata": {},
     "output_type": "execute_result"
    }
   ],
   "source": [
    "df.pivot_table('Renda',index=[\"Estado\",\"Estado_Civil\"], aggfunc='mean',margins=True) \n",
    "#media da renda por estado e estado_civil"
   ]
  },
  {
   "cell_type": "code",
   "execution_count": 18,
   "metadata": {},
   "outputs": [
    {
     "data": {
      "text/html": [
       "<div>\n",
       "<style scoped>\n",
       "    .dataframe tbody tr th:only-of-type {\n",
       "        vertical-align: middle;\n",
       "    }\n",
       "\n",
       "    .dataframe tbody tr th {\n",
       "        vertical-align: top;\n",
       "    }\n",
       "\n",
       "    .dataframe thead th {\n",
       "        text-align: right;\n",
       "    }\n",
       "</style>\n",
       "<table border=\"1\" class=\"dataframe\">\n",
       "  <thead>\n",
       "    <tr style=\"text-align: right;\">\n",
       "      <th>Escolaridade</th>\n",
       "      <th>Fundamental</th>\n",
       "      <th>Médio</th>\n",
       "      <th>Superior</th>\n",
       "      <th>All</th>\n",
       "    </tr>\n",
       "    <tr>\n",
       "      <th>Estado</th>\n",
       "      <th></th>\n",
       "      <th></th>\n",
       "      <th></th>\n",
       "      <th></th>\n",
       "    </tr>\n",
       "  </thead>\n",
       "  <tbody>\n",
       "    <tr>\n",
       "      <th>GO</th>\n",
       "      <td>2.0</td>\n",
       "      <td>NaN</td>\n",
       "      <td>1.0</td>\n",
       "      <td>3</td>\n",
       "    </tr>\n",
       "    <tr>\n",
       "      <th>MG</th>\n",
       "      <td>2.0</td>\n",
       "      <td>NaN</td>\n",
       "      <td>2.0</td>\n",
       "      <td>4</td>\n",
       "    </tr>\n",
       "    <tr>\n",
       "      <th>RJ</th>\n",
       "      <td>2.0</td>\n",
       "      <td>2.0</td>\n",
       "      <td>NaN</td>\n",
       "      <td>4</td>\n",
       "    </tr>\n",
       "    <tr>\n",
       "      <th>RS</th>\n",
       "      <td>1.0</td>\n",
       "      <td>NaN</td>\n",
       "      <td>1.0</td>\n",
       "      <td>2</td>\n",
       "    </tr>\n",
       "    <tr>\n",
       "      <th>SP</th>\n",
       "      <td>NaN</td>\n",
       "      <td>4.0</td>\n",
       "      <td>1.0</td>\n",
       "      <td>5</td>\n",
       "    </tr>\n",
       "    <tr>\n",
       "      <th>TO</th>\n",
       "      <td>1.0</td>\n",
       "      <td>1.0</td>\n",
       "      <td>1.0</td>\n",
       "      <td>3</td>\n",
       "    </tr>\n",
       "    <tr>\n",
       "      <th>All</th>\n",
       "      <td>8.0</td>\n",
       "      <td>7.0</td>\n",
       "      <td>6.0</td>\n",
       "      <td>21</td>\n",
       "    </tr>\n",
       "  </tbody>\n",
       "</table>\n",
       "</div>"
      ],
      "text/plain": [
       "Escolaridade  Fundamental  Médio  Superior  All\n",
       "Estado                                         \n",
       "GO                    2.0    NaN       1.0    3\n",
       "MG                    2.0    NaN       2.0    4\n",
       "RJ                    2.0    2.0       NaN    4\n",
       "RS                    1.0    NaN       1.0    2\n",
       "SP                    NaN    4.0       1.0    5\n",
       "TO                    1.0    1.0       1.0    3\n",
       "All                   8.0    7.0       6.0   21"
      ]
     },
     "execution_count": 18,
     "metadata": {},
     "output_type": "execute_result"
    }
   ],
   "source": [
    "df.pivot_table('Renda',index=[\"Estado\"],columns=['Escolaridade'], aggfunc='count',margins=True) \n",
    "#quantas observacoes por estado e escolaridade, se colocar dropna = True, exclui os NaN"
   ]
  },
  {
   "cell_type": "code",
   "execution_count": 19,
   "metadata": {},
   "outputs": [
    {
     "data": {
      "text/html": [
       "<div>\n",
       "<style scoped>\n",
       "    .dataframe tbody tr th:only-of-type {\n",
       "        vertical-align: middle;\n",
       "    }\n",
       "\n",
       "    .dataframe tbody tr th {\n",
       "        vertical-align: top;\n",
       "    }\n",
       "\n",
       "    .dataframe thead th {\n",
       "        text-align: right;\n",
       "    }\n",
       "</style>\n",
       "<table border=\"1\" class=\"dataframe\">\n",
       "  <thead>\n",
       "    <tr style=\"text-align: right;\">\n",
       "      <th></th>\n",
       "      <th>Escolaridade</th>\n",
       "      <th>Fundamental</th>\n",
       "      <th>Médio</th>\n",
       "      <th>Superior</th>\n",
       "      <th>All</th>\n",
       "    </tr>\n",
       "    <tr>\n",
       "      <th>Estado</th>\n",
       "      <th>Estado_Civil</th>\n",
       "      <th></th>\n",
       "      <th></th>\n",
       "      <th></th>\n",
       "      <th></th>\n",
       "    </tr>\n",
       "  </thead>\n",
       "  <tbody>\n",
       "    <tr>\n",
       "      <th>GO</th>\n",
       "      <th>Casado</th>\n",
       "      <td>2136.000</td>\n",
       "      <td>NaN</td>\n",
       "      <td>5710.000000</td>\n",
       "      <td>3327.333333</td>\n",
       "    </tr>\n",
       "    <tr>\n",
       "      <th rowspan=\"2\" valign=\"top\">MG</th>\n",
       "      <th>Casado</th>\n",
       "      <td>4950.000</td>\n",
       "      <td>NaN</td>\n",
       "      <td>NaN</td>\n",
       "      <td>4950.000000</td>\n",
       "    </tr>\n",
       "    <tr>\n",
       "      <th>Solteiro</th>\n",
       "      <td>1152.000</td>\n",
       "      <td>NaN</td>\n",
       "      <td>5909.000000</td>\n",
       "      <td>4323.333333</td>\n",
       "    </tr>\n",
       "    <tr>\n",
       "      <th rowspan=\"2\" valign=\"top\">RJ</th>\n",
       "      <th>Casado</th>\n",
       "      <td>NaN</td>\n",
       "      <td>5660.000000</td>\n",
       "      <td>NaN</td>\n",
       "      <td>5660.000000</td>\n",
       "    </tr>\n",
       "    <tr>\n",
       "      <th>Solteiro</th>\n",
       "      <td>2420.000</td>\n",
       "      <td>4767.000000</td>\n",
       "      <td>NaN</td>\n",
       "      <td>3202.333333</td>\n",
       "    </tr>\n",
       "    <tr>\n",
       "      <th>RS</th>\n",
       "      <th>Casado</th>\n",
       "      <td>1494.000</td>\n",
       "      <td>NaN</td>\n",
       "      <td>5308.000000</td>\n",
       "      <td>3401.000000</td>\n",
       "    </tr>\n",
       "    <tr>\n",
       "      <th>SP</th>\n",
       "      <th>Solteiro</th>\n",
       "      <td>NaN</td>\n",
       "      <td>3941.750000</td>\n",
       "      <td>5351.000000</td>\n",
       "      <td>4223.600000</td>\n",
       "    </tr>\n",
       "    <tr>\n",
       "      <th>TO</th>\n",
       "      <th>Casado</th>\n",
       "      <td>1023.000</td>\n",
       "      <td>4454.000000</td>\n",
       "      <td>4337.000000</td>\n",
       "      <td>3271.333333</td>\n",
       "    </tr>\n",
       "    <tr>\n",
       "      <th>All</th>\n",
       "      <th></th>\n",
       "      <td>2216.375</td>\n",
       "      <td>4378.285714</td>\n",
       "      <td>5420.666667</td>\n",
       "      <td>3852.523810</td>\n",
       "    </tr>\n",
       "  </tbody>\n",
       "</table>\n",
       "</div>"
      ],
      "text/plain": [
       "Escolaridade         Fundamental        Médio     Superior          All\n",
       "Estado Estado_Civil                                                    \n",
       "GO     Casado           2136.000          NaN  5710.000000  3327.333333\n",
       "MG     Casado           4950.000          NaN          NaN  4950.000000\n",
       "       Solteiro         1152.000          NaN  5909.000000  4323.333333\n",
       "RJ     Casado                NaN  5660.000000          NaN  5660.000000\n",
       "       Solteiro         2420.000  4767.000000          NaN  3202.333333\n",
       "RS     Casado           1494.000          NaN  5308.000000  3401.000000\n",
       "SP     Solteiro              NaN  3941.750000  5351.000000  4223.600000\n",
       "TO     Casado           1023.000  4454.000000  4337.000000  3271.333333\n",
       "All                     2216.375  4378.285714  5420.666667  3852.523810"
      ]
     },
     "execution_count": 19,
     "metadata": {},
     "output_type": "execute_result"
    }
   ],
   "source": [
    "df.pivot_table('Renda',index=[\"Estado\",\"Estado_Civil\"], columns=['Escolaridade'] ,aggfunc='mean',margins=True)\n",
    "#media da renda por estado, estado_civil e escolaridade"
   ]
  },
  {
   "cell_type": "code",
   "execution_count": 20,
   "metadata": {},
   "outputs": [],
   "source": [
    "#transformando a tabela cruzada em df, usando reset.index()\n",
    "df2 = (df.pivot_table('Renda',index=[\"Estado\",\"Estado_Civil\"], columns=['Escolaridade'] ,aggfunc='mean',margins=True)).reset_index()"
   ]
  },
  {
   "cell_type": "code",
   "execution_count": 21,
   "metadata": {},
   "outputs": [
    {
     "data": {
      "text/html": [
       "<div>\n",
       "<style scoped>\n",
       "    .dataframe tbody tr th:only-of-type {\n",
       "        vertical-align: middle;\n",
       "    }\n",
       "\n",
       "    .dataframe tbody tr th {\n",
       "        vertical-align: top;\n",
       "    }\n",
       "\n",
       "    .dataframe thead th {\n",
       "        text-align: right;\n",
       "    }\n",
       "</style>\n",
       "<table border=\"1\" class=\"dataframe\">\n",
       "  <thead>\n",
       "    <tr style=\"text-align: right;\">\n",
       "      <th>Escolaridade</th>\n",
       "      <th>Estado</th>\n",
       "      <th>Estado_Civil</th>\n",
       "      <th>Fundamental</th>\n",
       "      <th>Médio</th>\n",
       "      <th>Superior</th>\n",
       "      <th>All</th>\n",
       "    </tr>\n",
       "  </thead>\n",
       "  <tbody>\n",
       "    <tr>\n",
       "      <th>0</th>\n",
       "      <td>GO</td>\n",
       "      <td>Casado</td>\n",
       "      <td>2136.000</td>\n",
       "      <td>NaN</td>\n",
       "      <td>5710.000000</td>\n",
       "      <td>3327.333333</td>\n",
       "    </tr>\n",
       "    <tr>\n",
       "      <th>1</th>\n",
       "      <td>MG</td>\n",
       "      <td>Casado</td>\n",
       "      <td>4950.000</td>\n",
       "      <td>NaN</td>\n",
       "      <td>NaN</td>\n",
       "      <td>4950.000000</td>\n",
       "    </tr>\n",
       "    <tr>\n",
       "      <th>2</th>\n",
       "      <td>MG</td>\n",
       "      <td>Solteiro</td>\n",
       "      <td>1152.000</td>\n",
       "      <td>NaN</td>\n",
       "      <td>5909.000000</td>\n",
       "      <td>4323.333333</td>\n",
       "    </tr>\n",
       "    <tr>\n",
       "      <th>3</th>\n",
       "      <td>RJ</td>\n",
       "      <td>Casado</td>\n",
       "      <td>NaN</td>\n",
       "      <td>5660.000000</td>\n",
       "      <td>NaN</td>\n",
       "      <td>5660.000000</td>\n",
       "    </tr>\n",
       "    <tr>\n",
       "      <th>4</th>\n",
       "      <td>RJ</td>\n",
       "      <td>Solteiro</td>\n",
       "      <td>2420.000</td>\n",
       "      <td>4767.000000</td>\n",
       "      <td>NaN</td>\n",
       "      <td>3202.333333</td>\n",
       "    </tr>\n",
       "    <tr>\n",
       "      <th>5</th>\n",
       "      <td>RS</td>\n",
       "      <td>Casado</td>\n",
       "      <td>1494.000</td>\n",
       "      <td>NaN</td>\n",
       "      <td>5308.000000</td>\n",
       "      <td>3401.000000</td>\n",
       "    </tr>\n",
       "    <tr>\n",
       "      <th>6</th>\n",
       "      <td>SP</td>\n",
       "      <td>Solteiro</td>\n",
       "      <td>NaN</td>\n",
       "      <td>3941.750000</td>\n",
       "      <td>5351.000000</td>\n",
       "      <td>4223.600000</td>\n",
       "    </tr>\n",
       "    <tr>\n",
       "      <th>7</th>\n",
       "      <td>TO</td>\n",
       "      <td>Casado</td>\n",
       "      <td>1023.000</td>\n",
       "      <td>4454.000000</td>\n",
       "      <td>4337.000000</td>\n",
       "      <td>3271.333333</td>\n",
       "    </tr>\n",
       "    <tr>\n",
       "      <th>8</th>\n",
       "      <td>All</td>\n",
       "      <td></td>\n",
       "      <td>2216.375</td>\n",
       "      <td>4378.285714</td>\n",
       "      <td>5420.666667</td>\n",
       "      <td>3852.523810</td>\n",
       "    </tr>\n",
       "  </tbody>\n",
       "</table>\n",
       "</div>"
      ],
      "text/plain": [
       "Escolaridade Estado Estado_Civil  Fundamental        Médio     Superior  \\\n",
       "0                GO       Casado     2136.000          NaN  5710.000000   \n",
       "1                MG       Casado     4950.000          NaN          NaN   \n",
       "2                MG     Solteiro     1152.000          NaN  5909.000000   \n",
       "3                RJ       Casado          NaN  5660.000000          NaN   \n",
       "4                RJ     Solteiro     2420.000  4767.000000          NaN   \n",
       "5                RS       Casado     1494.000          NaN  5308.000000   \n",
       "6                SP     Solteiro          NaN  3941.750000  5351.000000   \n",
       "7                TO       Casado     1023.000  4454.000000  4337.000000   \n",
       "8               All                  2216.375  4378.285714  5420.666667   \n",
       "\n",
       "Escolaridade          All  \n",
       "0             3327.333333  \n",
       "1             4950.000000  \n",
       "2             4323.333333  \n",
       "3             5660.000000  \n",
       "4             3202.333333  \n",
       "5             3401.000000  \n",
       "6             4223.600000  \n",
       "7             3271.333333  \n",
       "8             3852.523810  "
      ]
     },
     "execution_count": 21,
     "metadata": {},
     "output_type": "execute_result"
    }
   ],
   "source": [
    "df2"
   ]
  },
  {
   "cell_type": "code",
   "execution_count": null,
   "metadata": {},
   "outputs": [],
   "source": []
  }
 ],
 "metadata": {
  "kernelspec": {
   "display_name": "Python 3",
   "language": "python",
   "name": "python3"
  },
  "language_info": {
   "codemirror_mode": {
    "name": "ipython",
    "version": 3
   },
   "file_extension": ".py",
   "mimetype": "text/x-python",
   "name": "python",
   "nbconvert_exporter": "python",
   "pygments_lexer": "ipython3",
   "version": "3.7.1"
  }
 },
 "nbformat": 4,
 "nbformat_minor": 2
}
