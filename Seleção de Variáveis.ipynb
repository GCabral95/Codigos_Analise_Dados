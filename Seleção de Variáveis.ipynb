{
 "cells": [
  {
   "cell_type": "code",
   "execution_count": 1,
   "metadata": {},
   "outputs": [],
   "source": [
    "import pandas as pd\n",
    "import numpy as np\n",
    "import pydot\n",
    "import seaborn as sns\n",
    "import matplotlib.pyplot as plt\n",
    "import statistics as st\n",
    "import warnings\n",
    "warnings.filterwarnings(\"ignore\")"
   ]
  },
  {
   "cell_type": "code",
   "execution_count": 2,
   "metadata": {},
   "outputs": [],
   "source": [
    "#Base de custos médicos faturados pelo seguro de saúde\n",
    "df = pd.read_csv('insurance.csv')"
   ]
  },
  {
   "cell_type": "code",
   "execution_count": 3,
   "metadata": {},
   "outputs": [
    {
     "data": {
      "text/html": [
       "<div>\n",
       "<style scoped>\n",
       "    .dataframe tbody tr th:only-of-type {\n",
       "        vertical-align: middle;\n",
       "    }\n",
       "\n",
       "    .dataframe tbody tr th {\n",
       "        vertical-align: top;\n",
       "    }\n",
       "\n",
       "    .dataframe thead th {\n",
       "        text-align: right;\n",
       "    }\n",
       "</style>\n",
       "<table border=\"1\" class=\"dataframe\">\n",
       "  <thead>\n",
       "    <tr style=\"text-align: right;\">\n",
       "      <th></th>\n",
       "      <th>age</th>\n",
       "      <th>sex</th>\n",
       "      <th>bmi</th>\n",
       "      <th>children</th>\n",
       "      <th>smoker</th>\n",
       "      <th>region</th>\n",
       "      <th>charges</th>\n",
       "    </tr>\n",
       "  </thead>\n",
       "  <tbody>\n",
       "    <tr>\n",
       "      <th>0</th>\n",
       "      <td>19</td>\n",
       "      <td>female</td>\n",
       "      <td>27.900</td>\n",
       "      <td>0</td>\n",
       "      <td>yes</td>\n",
       "      <td>southwest</td>\n",
       "      <td>16884.92400</td>\n",
       "    </tr>\n",
       "    <tr>\n",
       "      <th>1</th>\n",
       "      <td>18</td>\n",
       "      <td>male</td>\n",
       "      <td>33.770</td>\n",
       "      <td>1</td>\n",
       "      <td>no</td>\n",
       "      <td>southeast</td>\n",
       "      <td>1725.55230</td>\n",
       "    </tr>\n",
       "    <tr>\n",
       "      <th>2</th>\n",
       "      <td>28</td>\n",
       "      <td>male</td>\n",
       "      <td>33.000</td>\n",
       "      <td>3</td>\n",
       "      <td>no</td>\n",
       "      <td>southeast</td>\n",
       "      <td>4449.46200</td>\n",
       "    </tr>\n",
       "    <tr>\n",
       "      <th>3</th>\n",
       "      <td>33</td>\n",
       "      <td>male</td>\n",
       "      <td>22.705</td>\n",
       "      <td>0</td>\n",
       "      <td>no</td>\n",
       "      <td>northwest</td>\n",
       "      <td>21984.47061</td>\n",
       "    </tr>\n",
       "    <tr>\n",
       "      <th>4</th>\n",
       "      <td>32</td>\n",
       "      <td>male</td>\n",
       "      <td>28.880</td>\n",
       "      <td>0</td>\n",
       "      <td>no</td>\n",
       "      <td>northwest</td>\n",
       "      <td>3866.85520</td>\n",
       "    </tr>\n",
       "  </tbody>\n",
       "</table>\n",
       "</div>"
      ],
      "text/plain": [
       "   age     sex     bmi  children smoker     region      charges\n",
       "0   19  female  27.900         0    yes  southwest  16884.92400\n",
       "1   18    male  33.770         1     no  southeast   1725.55230\n",
       "2   28    male  33.000         3     no  southeast   4449.46200\n",
       "3   33    male  22.705         0     no  northwest  21984.47061\n",
       "4   32    male  28.880         0     no  northwest   3866.85520"
      ]
     },
     "execution_count": 3,
     "metadata": {},
     "output_type": "execute_result"
    }
   ],
   "source": [
    "df.head()"
   ]
  },
  {
   "cell_type": "markdown",
   "metadata": {},
   "source": [
    "## Quando a variável resposta é quantitativa"
   ]
  },
  {
   "cell_type": "code",
   "execution_count": 4,
   "metadata": {},
   "outputs": [],
   "source": [
    "# Variavel resposta\n",
    "df_gasto = df[['charges']]"
   ]
  },
  {
   "cell_type": "code",
   "execution_count": 5,
   "metadata": {},
   "outputs": [],
   "source": [
    "# Variavel preditivas\n",
    "df_var = df[['age','sex','bmi','children','smoker','region']]"
   ]
  },
  {
   "cell_type": "code",
   "execution_count": 6,
   "metadata": {},
   "outputs": [],
   "source": [
    "# Separando as variaveis preditivas entre categoricas e numericas\n",
    "df_var_categ = df_var[['sex','smoker','region']]\n",
    "df_var_int = df_var[['age','bmi','children']]"
   ]
  },
  {
   "cell_type": "markdown",
   "metadata": {},
   "source": [
    "#### Relação quanti-quanti"
   ]
  },
  {
   "cell_type": "code",
   "execution_count": 7,
   "metadata": {},
   "outputs": [],
   "source": [
    "df_var_int_rel = df_var_int.copy()\n",
    "df_var_int_rel['charges'] = df_gasto[['charges']]"
   ]
  },
  {
   "cell_type": "code",
   "execution_count": 8,
   "metadata": {},
   "outputs": [
    {
     "data": {
      "text/html": [
       "<div>\n",
       "<style scoped>\n",
       "    .dataframe tbody tr th:only-of-type {\n",
       "        vertical-align: middle;\n",
       "    }\n",
       "\n",
       "    .dataframe tbody tr th {\n",
       "        vertical-align: top;\n",
       "    }\n",
       "\n",
       "    .dataframe thead th {\n",
       "        text-align: right;\n",
       "    }\n",
       "</style>\n",
       "<table border=\"1\" class=\"dataframe\">\n",
       "  <thead>\n",
       "    <tr style=\"text-align: right;\">\n",
       "      <th></th>\n",
       "      <th>age</th>\n",
       "      <th>bmi</th>\n",
       "      <th>children</th>\n",
       "      <th>charges</th>\n",
       "    </tr>\n",
       "  </thead>\n",
       "  <tbody>\n",
       "    <tr>\n",
       "      <th>0</th>\n",
       "      <td>19</td>\n",
       "      <td>27.900</td>\n",
       "      <td>0</td>\n",
       "      <td>16884.92400</td>\n",
       "    </tr>\n",
       "    <tr>\n",
       "      <th>1</th>\n",
       "      <td>18</td>\n",
       "      <td>33.770</td>\n",
       "      <td>1</td>\n",
       "      <td>1725.55230</td>\n",
       "    </tr>\n",
       "    <tr>\n",
       "      <th>2</th>\n",
       "      <td>28</td>\n",
       "      <td>33.000</td>\n",
       "      <td>3</td>\n",
       "      <td>4449.46200</td>\n",
       "    </tr>\n",
       "    <tr>\n",
       "      <th>3</th>\n",
       "      <td>33</td>\n",
       "      <td>22.705</td>\n",
       "      <td>0</td>\n",
       "      <td>21984.47061</td>\n",
       "    </tr>\n",
       "    <tr>\n",
       "      <th>4</th>\n",
       "      <td>32</td>\n",
       "      <td>28.880</td>\n",
       "      <td>0</td>\n",
       "      <td>3866.85520</td>\n",
       "    </tr>\n",
       "  </tbody>\n",
       "</table>\n",
       "</div>"
      ],
      "text/plain": [
       "   age     bmi  children      charges\n",
       "0   19  27.900         0  16884.92400\n",
       "1   18  33.770         1   1725.55230\n",
       "2   28  33.000         3   4449.46200\n",
       "3   33  22.705         0  21984.47061\n",
       "4   32  28.880         0   3866.85520"
      ]
     },
     "execution_count": 8,
     "metadata": {},
     "output_type": "execute_result"
    }
   ],
   "source": [
    "df_var_int_rel.head()"
   ]
  },
  {
   "cell_type": "markdown",
   "metadata": {},
   "source": [
    "* Correlação de sperman entre as variaveis quantitativas\n",
    "    * Medida não paramétrica de dependência, mensura quando o valor de uma variável aumenta ou diminui, o valor da outra variável igualmente aumenta ou diminui\n",
    "    * Observa-se que a variável idade e gastos possuem a maior correlação"
   ]
  },
  {
   "cell_type": "code",
   "execution_count": 9,
   "metadata": {},
   "outputs": [
    {
     "data": {
      "text/html": [
       "<div>\n",
       "<style scoped>\n",
       "    .dataframe tbody tr th:only-of-type {\n",
       "        vertical-align: middle;\n",
       "    }\n",
       "\n",
       "    .dataframe tbody tr th {\n",
       "        vertical-align: top;\n",
       "    }\n",
       "\n",
       "    .dataframe thead th {\n",
       "        text-align: right;\n",
       "    }\n",
       "</style>\n",
       "<table border=\"1\" class=\"dataframe\">\n",
       "  <thead>\n",
       "    <tr style=\"text-align: right;\">\n",
       "      <th></th>\n",
       "      <th>age</th>\n",
       "      <th>bmi</th>\n",
       "      <th>children</th>\n",
       "      <th>charges</th>\n",
       "    </tr>\n",
       "  </thead>\n",
       "  <tbody>\n",
       "    <tr>\n",
       "      <th>age</th>\n",
       "      <td>1.000000</td>\n",
       "      <td>0.107736</td>\n",
       "      <td>0.056992</td>\n",
       "      <td>0.534392</td>\n",
       "    </tr>\n",
       "    <tr>\n",
       "      <th>bmi</th>\n",
       "      <td>0.107736</td>\n",
       "      <td>1.000000</td>\n",
       "      <td>0.015607</td>\n",
       "      <td>0.119396</td>\n",
       "    </tr>\n",
       "    <tr>\n",
       "      <th>children</th>\n",
       "      <td>0.056992</td>\n",
       "      <td>0.015607</td>\n",
       "      <td>1.000000</td>\n",
       "      <td>0.133339</td>\n",
       "    </tr>\n",
       "    <tr>\n",
       "      <th>charges</th>\n",
       "      <td>0.534392</td>\n",
       "      <td>0.119396</td>\n",
       "      <td>0.133339</td>\n",
       "      <td>1.000000</td>\n",
       "    </tr>\n",
       "  </tbody>\n",
       "</table>\n",
       "</div>"
      ],
      "text/plain": [
       "               age       bmi  children   charges\n",
       "age       1.000000  0.107736  0.056992  0.534392\n",
       "bmi       0.107736  1.000000  0.015607  0.119396\n",
       "children  0.056992  0.015607  1.000000  0.133339\n",
       "charges   0.534392  0.119396  0.133339  1.000000"
      ]
     },
     "execution_count": 9,
     "metadata": {},
     "output_type": "execute_result"
    }
   ],
   "source": [
    "df_var_int_rel.corr('spearman')"
   ]
  },
  {
   "cell_type": "markdown",
   "metadata": {},
   "source": [
    "* Plotando a relação de idade e gastos\n",
    "    * Observa-se 3 grandes concentrações de dados, e, nestas, quanto maior a idade, maior a tendencia do gasto"
   ]
  },
  {
   "cell_type": "code",
   "execution_count": 10,
   "metadata": {},
   "outputs": [
    {
     "data": {
      "text/plain": [
       "<seaborn.axisgrid.FacetGrid at 0x13c1c7b43c8>"
      ]
     },
     "execution_count": 10,
     "metadata": {},
     "output_type": "execute_result"
    },
    {
     "data": {
      "image/png": "[encoded data removed]",
      "text/plain": [
       "<Figure size 360x360 with 1 Axes>"
      ]
     },
     "metadata": {
      "needs_background": "light"
     },
     "output_type": "display_data"
    }
   ],
   "source": [
    "sns.lmplot( x=\"age\", y=\"charges\", data=df_var_int_rel, fit_reg=False)"
   ]
  },
  {
   "cell_type": "markdown",
   "metadata": {},
   "source": [
    "* Calculando a informação mutua entre as variáveis\n",
    "    * Mensura a dependência entre as variáveis\n",
    "    * Quanto maior seu valor, mais forte é a relação, ou seja, menor a incerteza do valor de uma variável quando há o conhecimento da outra\n",
    "    * Novamente, idade e gastos são as mais dependentes"
   ]
  },
  {
   "cell_type": "code",
   "execution_count": 11,
   "metadata": {},
   "outputs": [],
   "source": [
    "from sklearn.feature_selection import mutual_info_regression"
   ]
  },
  {
   "cell_type": "code",
   "execution_count": 12,
   "metadata": {},
   "outputs": [
    {
     "name": "stdout",
     "output_type": "stream",
     "text": [
      "age 1.501488154576315\n",
      "bmi 0.07287280384749373\n",
      "children 0.1608335311847484\n"
     ]
    }
   ],
   "source": [
    "info = mutual_info_regression(df_var_int, df_gasto)\n",
    "for x,y in zip(df_var_int.columns.tolist(),info):\n",
    "    print(x,y)"
   ]
  },
  {
   "cell_type": "markdown",
   "metadata": {},
   "source": [
    "* Para o calculo, utiliza-se o metodo de K-vizinhos, sendo este um parametro que pode ser ajustado (n_neighbors)"
   ]
  },
  {
   "cell_type": "code",
   "execution_count": 13,
   "metadata": {},
   "outputs": [
    {
     "name": "stdout",
     "output_type": "stream",
     "text": [
      "3 vizinhos p/ metodo age 1.4964679138265073\n",
      "3 vizinhos p/ metodo bmi 0.07251331996268107\n",
      "3 vizinhos p/ metodo children 0.16141918959418833\n",
      "4 vizinhos p/ metodo age 1.3868649190200792\n",
      "4 vizinhos p/ metodo bmi 0.10335792453262815\n",
      "4 vizinhos p/ metodo children 0.1398149949258567\n",
      "5 vizinhos p/ metodo age 1.3240255490857216\n",
      "5 vizinhos p/ metodo bmi 0.10287409011217541\n",
      "5 vizinhos p/ metodo children 0.12705322302458644\n"
     ]
    }
   ],
   "source": [
    "for a in range(3,6):\n",
    "    info = mutual_info_regression(df_var_int, df_gasto,n_neighbors=a)\n",
    "    for x,y in zip(df_var_int.columns.tolist(),info):\n",
    "        print(f'{a} vizinhos p/ metodo',x,y)"
   ]
  },
  {
   "cell_type": "markdown",
   "metadata": {},
   "source": [
    "#### Relação quali-quanti"
   ]
  },
  {
   "cell_type": "code",
   "execution_count": 14,
   "metadata": {},
   "outputs": [],
   "source": [
    "df_var_categ_rel = df_var_categ.copy()\n",
    "df_var_categ_rel['charges'] = df_gasto[['charges']]"
   ]
  },
  {
   "cell_type": "code",
   "execution_count": 15,
   "metadata": {},
   "outputs": [
    {
     "data": {
      "text/html": [
       "<div>\n",
       "<style scoped>\n",
       "    .dataframe tbody tr th:only-of-type {\n",
       "        vertical-align: middle;\n",
       "    }\n",
       "\n",
       "    .dataframe tbody tr th {\n",
       "        vertical-align: top;\n",
       "    }\n",
       "\n",
       "    .dataframe thead th {\n",
       "        text-align: right;\n",
       "    }\n",
       "</style>\n",
       "<table border=\"1\" class=\"dataframe\">\n",
       "  <thead>\n",
       "    <tr style=\"text-align: right;\">\n",
       "      <th></th>\n",
       "      <th>sex</th>\n",
       "      <th>smoker</th>\n",
       "      <th>region</th>\n",
       "      <th>charges</th>\n",
       "    </tr>\n",
       "  </thead>\n",
       "  <tbody>\n",
       "    <tr>\n",
       "      <th>0</th>\n",
       "      <td>female</td>\n",
       "      <td>yes</td>\n",
       "      <td>southwest</td>\n",
       "      <td>16884.92400</td>\n",
       "    </tr>\n",
       "    <tr>\n",
       "      <th>1</th>\n",
       "      <td>male</td>\n",
       "      <td>no</td>\n",
       "      <td>southeast</td>\n",
       "      <td>1725.55230</td>\n",
       "    </tr>\n",
       "    <tr>\n",
       "      <th>2</th>\n",
       "      <td>male</td>\n",
       "      <td>no</td>\n",
       "      <td>southeast</td>\n",
       "      <td>4449.46200</td>\n",
       "    </tr>\n",
       "    <tr>\n",
       "      <th>3</th>\n",
       "      <td>male</td>\n",
       "      <td>no</td>\n",
       "      <td>northwest</td>\n",
       "      <td>21984.47061</td>\n",
       "    </tr>\n",
       "    <tr>\n",
       "      <th>4</th>\n",
       "      <td>male</td>\n",
       "      <td>no</td>\n",
       "      <td>northwest</td>\n",
       "      <td>3866.85520</td>\n",
       "    </tr>\n",
       "  </tbody>\n",
       "</table>\n",
       "</div>"
      ],
      "text/plain": [
       "      sex smoker     region      charges\n",
       "0  female    yes  southwest  16884.92400\n",
       "1    male     no  southeast   1725.55230\n",
       "2    male     no  southeast   4449.46200\n",
       "3    male     no  northwest  21984.47061\n",
       "4    male     no  northwest   3866.85520"
      ]
     },
     "execution_count": 15,
     "metadata": {},
     "output_type": "execute_result"
    }
   ],
   "source": [
    "df_var_categ_rel.head()"
   ]
  },
  {
   "cell_type": "markdown",
   "metadata": {},
   "source": [
    "* Calcular R2 entre as variáveis quali e a variavel resposta\n",
    "    * Mensura o quanto da variabilidade da variavel quanti conseguimos reduzir com a segmentação da variavel quali\n",
    "    * Há relação entre ser fumante e os gastos"
   ]
  },
  {
   "cell_type": "code",
   "execution_count": 16,
   "metadata": {},
   "outputs": [],
   "source": [
    "#Cria lista de variaveis qualitativas e quantitativas\n",
    "CATVAR = df_var_categ_rel.select_dtypes(include=['object']).columns.tolist()\n",
    "NUMVAR = df_var_categ_rel.select_dtypes(include=['float64','int64']).columns.tolist()"
   ]
  },
  {
   "cell_type": "code",
   "execution_count": 17,
   "metadata": {},
   "outputs": [
    {
     "data": {
      "text/plain": [
       "['sex', 'smoker', 'region']"
      ]
     },
     "execution_count": 17,
     "metadata": {},
     "output_type": "execute_result"
    }
   ],
   "source": [
    "CATVAR"
   ]
  },
  {
   "cell_type": "code",
   "execution_count": 18,
   "metadata": {},
   "outputs": [
    {
     "data": {
      "text/plain": [
       "['charges']"
      ]
     },
     "execution_count": 18,
     "metadata": {},
     "output_type": "execute_result"
    }
   ],
   "source": [
    "NUMVAR"
   ]
  },
  {
   "cell_type": "code",
   "execution_count": 19,
   "metadata": {},
   "outputs": [
    {
     "data": {
      "text/html": [
       "<div>\n",
       "<style scoped>\n",
       "    .dataframe tbody tr th:only-of-type {\n",
       "        vertical-align: middle;\n",
       "    }\n",
       "\n",
       "    .dataframe tbody tr th {\n",
       "        vertical-align: top;\n",
       "    }\n",
       "\n",
       "    .dataframe thead th {\n",
       "        text-align: right;\n",
       "    }\n",
       "</style>\n",
       "<table border=\"1\" class=\"dataframe\">\n",
       "  <thead>\n",
       "    <tr style=\"text-align: right;\">\n",
       "      <th></th>\n",
       "      <th>VarQuanti</th>\n",
       "      <th>VarQuali</th>\n",
       "      <th>var*n / n_total</th>\n",
       "      <th>R2</th>\n",
       "    </tr>\n",
       "  </thead>\n",
       "  <tbody>\n",
       "    <tr>\n",
       "      <th>1</th>\n",
       "      <td>charges</td>\n",
       "      <td>smoker</td>\n",
       "      <td>5.584712e+07</td>\n",
       "      <td>0.619187</td>\n",
       "    </tr>\n",
       "    <tr>\n",
       "      <th>2</th>\n",
       "      <td>charges</td>\n",
       "      <td>region</td>\n",
       "      <td>1.460026e+08</td>\n",
       "      <td>0.004431</td>\n",
       "    </tr>\n",
       "    <tr>\n",
       "      <th>0</th>\n",
       "      <td>charges</td>\n",
       "      <td>sex</td>\n",
       "      <td>1.462801e+08</td>\n",
       "      <td>0.002539</td>\n",
       "    </tr>\n",
       "  </tbody>\n",
       "</table>\n",
       "</div>"
      ],
      "text/plain": [
       "  VarQuanti VarQuali  var*n / n_total        R2\n",
       "1   charges   smoker     5.584712e+07  0.619187\n",
       "2   charges   region     1.460026e+08  0.004431\n",
       "0   charges      sex     1.462801e+08  0.002539"
      ]
     },
     "execution_count": 19,
     "metadata": {},
     "output_type": "execute_result"
    }
   ],
   "source": [
    "r2 = pd.DataFrame(columns=['VarQuanti','VarQuali','var*n / n_total','R2'])\n",
    "for z in NUMVAR:\n",
    "    for x in CATVAR:\n",
    "        dfr = df[x].value_counts().reset_index()\n",
    "        f = 0\n",
    "        a1 = 0\n",
    "        for y in range(len(dfr)):\n",
    "            a = dfr.iloc[y,1]\n",
    "            a1 = a1 + a\n",
    "            c = (df[df[x] == dfr.iloc[y,0]])\n",
    "            e = (c[z].var())*a\n",
    "            f = f + e\n",
    "        f = f/a1\n",
    "        r2_calc = 1 - (f/df[z].var())\n",
    "        r2 = r2.append({'VarQuanti' : z, 'VarQuali' : x,'var*n / n_total' : f, 'R2' : r2_calc}, ignore_index=True)\n",
    "r2 = r2.sort_values(by = 'R2', ascending = False)\n",
    "r2"
   ]
  },
  {
   "cell_type": "markdown",
   "metadata": {},
   "source": [
    "* Plotando a relação entre gastos e ser fumante\n",
    "    * Observa-se a distinção entre a disposição das caixas do boxplot"
   ]
  },
  {
   "cell_type": "code",
   "execution_count": 20,
   "metadata": {},
   "outputs": [
    {
     "data": {
      "text/plain": [
       "<AxesSubplot:xlabel='smoker', ylabel='charges'>"
      ]
     },
     "execution_count": 20,
     "metadata": {},
     "output_type": "execute_result"
    },
    {
     "data": {
      "image/png": "[encoded data removed]",
      "text/plain": [
       "<Figure size 432x288 with 1 Axes>"
      ]
     },
     "metadata": {
      "needs_background": "light"
     },
     "output_type": "display_data"
    }
   ],
   "source": [
    "sns.boxplot(x=\"smoker\", y=\"charges\", data=df_var_categ_rel, palette=\"Set1\")"
   ]
  },
  {
   "cell_type": "markdown",
   "metadata": {},
   "source": [
    "* Ja para a baixa relação, como região e gastos, por exemplo, observa-se que as caixas estão muito proximas"
   ]
  },
  {
   "cell_type": "code",
   "execution_count": 21,
   "metadata": {},
   "outputs": [
    {
     "data": {
      "text/plain": [
       "<AxesSubplot:xlabel='region', ylabel='charges'>"
      ]
     },
     "execution_count": 21,
     "metadata": {},
     "output_type": "execute_result"
    },
    {
     "data": {
      "image/png": "[encoded data removed]",
      "text/plain": [
       "<Figure size 432x288 with 1 Axes>"
      ]
     },
     "metadata": {
      "needs_background": "light"
     },
     "output_type": "display_data"
    }
   ],
   "source": [
    "sns.boxplot(x=\"region\", y=\"charges\", data=df_var_categ_rel, palette=\"Set1\")"
   ]
  },
  {
   "cell_type": "markdown",
   "metadata": {},
   "source": [
    "* Verificando o coeficiente das variáveis por meio de uma Regressão Lasso"
   ]
  },
  {
   "cell_type": "code",
   "execution_count": 22,
   "metadata": {},
   "outputs": [],
   "source": [
    "from sklearn.linear_model import Lasso\n",
    "from sklearn.model_selection import GridSearchCV\n",
    "from sklearn.model_selection import train_test_split\n",
    "from sklearn.metrics import mean_squared_error\n",
    "from sklearn.metrics import r2_score"
   ]
  },
  {
   "cell_type": "code",
   "execution_count": 23,
   "metadata": {},
   "outputs": [],
   "source": [
    "X = df[['age','sex','bmi','children','smoker','region']]\n",
    "Y = df[['charges']]"
   ]
  },
  {
   "cell_type": "code",
   "execution_count": 24,
   "metadata": {},
   "outputs": [],
   "source": [
    "X_train, X_test, y_train, y_test = train_test_split(X, Y, test_size=0.30, random_state=0)"
   ]
  },
  {
   "cell_type": "code",
   "execution_count": 25,
   "metadata": {},
   "outputs": [],
   "source": [
    "#Escalar variáveis quanti\n",
    "from sklearn.preprocessing import RobustScaler\n",
    "colunas = ['age','bmi','children']\n",
    "escaladas = {}\n",
    "X_train_escal = X_train.copy()\n",
    "X_test_escal = X_test.copy()\n",
    "for col in colunas:\n",
    "    scaler = RobustScaler()\n",
    "    scaler.fit(X_train_escal[[col]])\n",
    "    X_train_escal.loc[:,col] = scaler.transform(X_train_escal[[col]])\n",
    "    X_test_escal.loc[:,col] = scaler.transform(X_test_escal[[col]])\n",
    "    escaladas[col] = scaler"
   ]
  },
  {
   "cell_type": "code",
   "execution_count": 26,
   "metadata": {},
   "outputs": [],
   "source": [
    "X_train_escal_onehot = X_train_escal.copy()\n",
    "X_test_escal_onehot = X_test_escal.copy()"
   ]
  },
  {
   "cell_type": "code",
   "execution_count": 27,
   "metadata": {},
   "outputs": [],
   "source": [
    "# Realizando enconding nas variaveis quali\n",
    "for x in ['sex','smoker','region']:\n",
    "    X_train_escal_onehot = pd.get_dummies(X_train_escal_onehot,columns=[x])\n",
    "    X_test_escal_onehot = pd.get_dummies(X_test_escal_onehot,columns=[x])"
   ]
  },
  {
   "cell_type": "code",
   "execution_count": 28,
   "metadata": {},
   "outputs": [
    {
     "data": {
      "text/html": [
       "<div>\n",
       "<style scoped>\n",
       "    .dataframe tbody tr th:only-of-type {\n",
       "        vertical-align: middle;\n",
       "    }\n",
       "\n",
       "    .dataframe tbody tr th {\n",
       "        vertical-align: top;\n",
       "    }\n",
       "\n",
       "    .dataframe thead th {\n",
       "        text-align: right;\n",
       "    }\n",
       "</style>\n",
       "<table border=\"1\" class=\"dataframe\">\n",
       "  <thead>\n",
       "    <tr style=\"text-align: right;\">\n",
       "      <th></th>\n",
       "      <th>age</th>\n",
       "      <th>bmi</th>\n",
       "      <th>children</th>\n",
       "      <th>sex_female</th>\n",
       "      <th>sex_male</th>\n",
       "      <th>smoker_no</th>\n",
       "      <th>smoker_yes</th>\n",
       "      <th>region_northeast</th>\n",
       "      <th>region_northwest</th>\n",
       "      <th>region_southeast</th>\n",
       "      <th>region_southwest</th>\n",
       "    </tr>\n",
       "  </thead>\n",
       "  <tbody>\n",
       "    <tr>\n",
       "      <th>1163</th>\n",
       "      <td>-0.88</td>\n",
       "      <td>-0.248810</td>\n",
       "      <td>-0.5</td>\n",
       "      <td>1</td>\n",
       "      <td>0</td>\n",
       "      <td>1</td>\n",
       "      <td>0</td>\n",
       "      <td>1</td>\n",
       "      <td>0</td>\n",
       "      <td>0</td>\n",
       "      <td>0</td>\n",
       "    </tr>\n",
       "    <tr>\n",
       "      <th>196</th>\n",
       "      <td>-0.04</td>\n",
       "      <td>0.297024</td>\n",
       "      <td>-0.5</td>\n",
       "      <td>1</td>\n",
       "      <td>0</td>\n",
       "      <td>1</td>\n",
       "      <td>0</td>\n",
       "      <td>0</td>\n",
       "      <td>0</td>\n",
       "      <td>0</td>\n",
       "      <td>1</td>\n",
       "    </tr>\n",
       "    <tr>\n",
       "      <th>438</th>\n",
       "      <td>0.48</td>\n",
       "      <td>1.957738</td>\n",
       "      <td>2.0</td>\n",
       "      <td>1</td>\n",
       "      <td>0</td>\n",
       "      <td>1</td>\n",
       "      <td>0</td>\n",
       "      <td>0</td>\n",
       "      <td>0</td>\n",
       "      <td>1</td>\n",
       "      <td>0</td>\n",
       "    </tr>\n",
       "    <tr>\n",
       "      <th>183</th>\n",
       "      <td>0.16</td>\n",
       "      <td>-0.463690</td>\n",
       "      <td>-0.5</td>\n",
       "      <td>1</td>\n",
       "      <td>0</td>\n",
       "      <td>1</td>\n",
       "      <td>0</td>\n",
       "      <td>0</td>\n",
       "      <td>1</td>\n",
       "      <td>0</td>\n",
       "      <td>0</td>\n",
       "    </tr>\n",
       "    <tr>\n",
       "      <th>1298</th>\n",
       "      <td>-0.28</td>\n",
       "      <td>-0.339286</td>\n",
       "      <td>0.5</td>\n",
       "      <td>0</td>\n",
       "      <td>1</td>\n",
       "      <td>1</td>\n",
       "      <td>0</td>\n",
       "      <td>0</td>\n",
       "      <td>1</td>\n",
       "      <td>0</td>\n",
       "      <td>0</td>\n",
       "    </tr>\n",
       "  </tbody>\n",
       "</table>\n",
       "</div>"
      ],
      "text/plain": [
       "       age       bmi  children  sex_female  sex_male  smoker_no  smoker_yes  \\\n",
       "1163 -0.88 -0.248810      -0.5           1         0          1           0   \n",
       "196  -0.04  0.297024      -0.5           1         0          1           0   \n",
       "438   0.48  1.957738       2.0           1         0          1           0   \n",
       "183   0.16 -0.463690      -0.5           1         0          1           0   \n",
       "1298 -0.28 -0.339286       0.5           0         1          1           0   \n",
       "\n",
       "      region_northeast  region_northwest  region_southeast  region_southwest  \n",
       "1163                 1                 0                 0                 0  \n",
       "196                  0                 0                 0                 1  \n",
       "438                  0                 0                 1                 0  \n",
       "183                  0                 1                 0                 0  \n",
       "1298                 0                 1                 0                 0  "
      ]
     },
     "execution_count": 28,
     "metadata": {},
     "output_type": "execute_result"
    }
   ],
   "source": [
    "X_train_escal_onehot.head()"
   ]
  },
  {
   "cell_type": "code",
   "execution_count": 29,
   "metadata": {},
   "outputs": [],
   "source": [
    "# dropando uma coluna de cada variavel categorica, mantendo esta como referencia\n",
    "X_train_escal_onehot_2 = X_train_escal_onehot.drop(['sex_male','smoker_no','region_northeast'],axis=1)\n",
    "X_test_escal_onehot_2 = X_test_escal_onehot.drop(['sex_male','smoker_no','region_northeast'],axis=1)"
   ]
  },
  {
   "cell_type": "code",
   "execution_count": 30,
   "metadata": {},
   "outputs": [
    {
     "data": {
      "text/plain": [
       "GridSearchCV(cv=10, error_score=nan,\n",
       "             estimator=Lasso(alpha=1.0, copy_X=True, fit_intercept=True,\n",
       "                             max_iter=100000, normalize=False, positive=False,\n",
       "                             precompute=False, random_state=0,\n",
       "                             selection='cyclic', tol=0.0001, warm_start=False),\n",
       "             iid='deprecated', n_jobs=None,\n",
       "             param_grid={'alpha': [0.0001, 0.001, 0.01, 0.1, 0.5, 1, 5, 10,\n",
       "                                   15]},\n",
       "             pre_dispatch='2*n_jobs', refit='Erro Quadrado médio',\n",
       "             return_train_score=False,\n",
       "             scoring={'Erro Quadrado médio': 'neg_mean_squared_error',\n",
       "                      'R2': 'r2'},\n",
       "             verbose=0)"
      ]
     },
     "execution_count": 30,
     "metadata": {},
     "output_type": "execute_result"
    }
   ],
   "source": [
    "# Rodando o modelo\n",
    "parametro = {'alpha':[0.0001,0.001,0.01,0.1,0.5,1,5,10,15]}\n",
    "scoring = {'R2': 'r2', 'Erro Quadrado médio': 'neg_mean_squared_error'}\n",
    "lasso = GridSearchCV(Lasso(max_iter=100000,random_state=0), parametro, scoring = scoring, refit = 'Erro Quadrado médio', \n",
    "                     cv=10)\n",
    "lasso.fit(X_train_escal_onehot_2,y_train)"
   ]
  },
  {
   "cell_type": "code",
   "execution_count": 31,
   "metadata": {},
   "outputs": [
    {
     "name": "stdout",
     "output_type": "stream",
     "text": [
      "5\n",
      "-38779618.845152125\n"
     ]
    }
   ],
   "source": [
    "# melhores hiperparametros\n",
    "print(lasso.best_estimator_.alpha)\n",
    "print(lasso.best_score_)"
   ]
  },
  {
   "cell_type": "markdown",
   "metadata": {},
   "source": [
    "* Pelos coeficientes, observa-se:\n",
    "    * Ser fumante e idade estão positivamente relacionados com gastos, sendo as principais relaçoes\n",
    "    * Em sequência, a variável BMI é a mais significativa em elevação dos gastos"
   ]
  },
  {
   "cell_type": "code",
   "execution_count": 32,
   "metadata": {},
   "outputs": [
    {
     "name": "stdout",
     "output_type": "stream",
     "text": [
      "age 6398.47562645461\n",
      "bmi 2800.4201265667243\n",
      "children 931.5573748403658\n",
      "sex_female 24.35069722125687\n",
      "smoker_yes 23402.121909596342\n",
      "region_northwest -475.1355635637591\n",
      "region_southeast -901.1859719193296\n",
      "region_southwest -712.0709905607047\n"
     ]
    }
   ],
   "source": [
    "lasso = Lasso(alpha = 5,max_iter=100000,random_state=0)\n",
    "lasso.fit(X_train_escal_onehot_2,y_train)\n",
    "for x,y in zip(X_train_escal_onehot_2.columns,lasso.coef_):\n",
    "    print(x,y)"
   ]
  },
  {
   "cell_type": "code",
   "execution_count": 33,
   "metadata": {},
   "outputs": [
    {
     "data": {
      "image/png": "[encoded data removed]",
      "text/plain": [
       "<Figure size 413.25x360 with 1 Axes>"
      ]
     },
     "metadata": {
      "needs_background": "light"
     },
     "output_type": "display_data"
    },
    {
     "data": {
      "image/png": "[encoded data removed]",
      "text/plain": [
       "<Figure size 550.375x360 with 1 Axes>"
      ]
     },
     "metadata": {
      "needs_background": "light"
     },
     "output_type": "display_data"
    }
   ],
   "source": [
    "# Plotando as principais relações final identificada, idade, fumante e BMI, em relacao aos gastos\n",
    "df['bmi_categ'] = pd.qcut(df['bmi'],3)\n",
    "sns.lmplot(x=\"age\", y=\"charges\", hue='smoker' ,data=df, fit_reg=False)\n",
    "sns.lmplot(x=\"age\", y=\"charges\", hue='bmi_categ' ,data=df, fit_reg=False)\n",
    "plt.show() "
   ]
  },
  {
   "cell_type": "code",
   "execution_count": null,
   "metadata": {},
   "outputs": [],
   "source": []
  },
  {
   "cell_type": "markdown",
   "metadata": {},
   "source": [
    "## Variável resposta qualitativa"
   ]
  },
  {
   "cell_type": "markdown",
   "metadata": {},
   "source": [
    "* Categorizando a variável de gastos\n",
    "    * Utiliza-se a opção de identificar clusters de valores, em regiões mais densas\n",
    "    * Pelo silhoutte score, a melhor métrica é com 02 clusters, porém, para esta exploração, escolhe-se 04 clusters, que é a segunda maior métrica"
   ]
  },
  {
   "cell_type": "code",
   "execution_count": 34,
   "metadata": {},
   "outputs": [
    {
     "data": {
      "image/png": "[encoded data removed]",
      "text/plain": [
       "<Figure size 432x288 with 1 Axes>"
      ]
     },
     "metadata": {
      "needs_background": "light"
     },
     "output_type": "display_data"
    }
   ],
   "source": [
    "from sklearn.cluster import KMeans\n",
    "from sklearn.metrics import silhouette_score\n",
    "#Calcula-se os silhoutte scores para diferentes número de clusters\n",
    "silhouette_scores = []\n",
    "for x in range(2, 15):\n",
    "    kmeans = KMeans(init = 'k-means++',n_init = 500,max_iter = 7000,n_clusters=x,random_state=50)\n",
    "    kmeans.fit(df_gasto)\n",
    "    score = silhouette_score(df_gasto, kmeans.labels_)\n",
    "    silhouette_scores.append(score)\n",
    "plt.plot(range(2, 15), silhouette_scores)\n",
    "plt.xticks(range(2, 15))\n",
    "plt.xlabel(\"Quantidade de Clusters\")\n",
    "plt.ylabel(\"Silhouette Score\")\n",
    "plt.show()"
   ]
  },
  {
   "cell_type": "code",
   "execution_count": 35,
   "metadata": {},
   "outputs": [
    {
     "data": {
      "text/html": [
       "<div>\n",
       "<style scoped>\n",
       "    .dataframe tbody tr th:only-of-type {\n",
       "        vertical-align: middle;\n",
       "    }\n",
       "\n",
       "    .dataframe tbody tr th {\n",
       "        vertical-align: top;\n",
       "    }\n",
       "\n",
       "    .dataframe thead th {\n",
       "        text-align: right;\n",
       "    }\n",
       "</style>\n",
       "<table border=\"1\" class=\"dataframe\">\n",
       "  <thead>\n",
       "    <tr style=\"text-align: right;\">\n",
       "      <th></th>\n",
       "      <th>count</th>\n",
       "      <th>min</th>\n",
       "      <th>max</th>\n",
       "    </tr>\n",
       "    <tr>\n",
       "      <th>clusters</th>\n",
       "      <th></th>\n",
       "      <th></th>\n",
       "      <th></th>\n",
       "    </tr>\n",
       "  </thead>\n",
       "  <tbody>\n",
       "    <tr>\n",
       "      <th>0</th>\n",
       "      <td>564</td>\n",
       "      <td>1121.87390</td>\n",
       "      <td>7749.15640</td>\n",
       "    </tr>\n",
       "    <tr>\n",
       "      <th>1</th>\n",
       "      <td>155</td>\n",
       "      <td>32108.66282</td>\n",
       "      <td>63770.42801</td>\n",
       "    </tr>\n",
       "    <tr>\n",
       "      <th>2</th>\n",
       "      <td>176</td>\n",
       "      <td>17043.34140</td>\n",
       "      <td>31620.00106</td>\n",
       "    </tr>\n",
       "    <tr>\n",
       "      <th>3</th>\n",
       "      <td>443</td>\n",
       "      <td>7789.63500</td>\n",
       "      <td>16884.92400</td>\n",
       "    </tr>\n",
       "  </tbody>\n",
       "</table>\n",
       "</div>"
      ],
      "text/plain": [
       "          count          min          max\n",
       "clusters                                 \n",
       "0           564   1121.87390   7749.15640\n",
       "1           155  32108.66282  63770.42801\n",
       "2           176  17043.34140  31620.00106\n",
       "3           443   7789.63500  16884.92400"
      ]
     },
     "execution_count": 35,
     "metadata": {},
     "output_type": "execute_result"
    }
   ],
   "source": [
    "kmeans = KMeans(init = 'k-means++',n_init = 500,max_iter = 7000,n_clusters=4, random_state=50).fit(df_gasto)\n",
    "df_gasto['clusters'] = kmeans.labels_\n",
    "df_gasto.groupby('clusters').charges.agg(['count','min','max']) #verificar tamanho e limites do cluster"
   ]
  },
  {
   "cell_type": "code",
   "execution_count": 36,
   "metadata": {},
   "outputs": [],
   "source": [
    "# Criando as categorias definidas pelos clusters\n",
    "categorias = [1100,7750,17000,32000,64000]\n",
    "nome_categorias = ['A - 1,1k até 7,7k', 'B - 7,7k até 17k', 'C - 17k até 32k', 'D - 32k até 64k']\n",
    "df_gasto['charges_categ'] = pd.cut(df_gasto['charges'],categorias,labels = nome_categorias)"
   ]
  },
  {
   "cell_type": "code",
   "execution_count": 37,
   "metadata": {},
   "outputs": [
    {
     "data": {
      "text/plain": [
       "A - 1,1k até 7,7k    564\n",
       "B - 7,7k até 17k     443\n",
       "C - 17k até 32k      176\n",
       "D - 32k até 64k      155\n",
       "Name: charges_categ, dtype: int64"
      ]
     },
     "execution_count": 37,
     "metadata": {},
     "output_type": "execute_result"
    }
   ],
   "source": [
    "df_gasto['charges_categ'].value_counts()"
   ]
  },
  {
   "cell_type": "markdown",
   "metadata": {},
   "source": [
    "#### Relação quali-quali"
   ]
  },
  {
   "cell_type": "code",
   "execution_count": 38,
   "metadata": {},
   "outputs": [],
   "source": [
    "df_var_categ['charges_categ'] = df_gasto[['charges_categ']]\n",
    "df_var_categ['coluna_contagem'] = 1"
   ]
  },
  {
   "cell_type": "code",
   "execution_count": 39,
   "metadata": {},
   "outputs": [
    {
     "data": {
      "text/html": [
       "<div>\n",
       "<style scoped>\n",
       "    .dataframe tbody tr th:only-of-type {\n",
       "        vertical-align: middle;\n",
       "    }\n",
       "\n",
       "    .dataframe tbody tr th {\n",
       "        vertical-align: top;\n",
       "    }\n",
       "\n",
       "    .dataframe thead th {\n",
       "        text-align: right;\n",
       "    }\n",
       "</style>\n",
       "<table border=\"1\" class=\"dataframe\">\n",
       "  <thead>\n",
       "    <tr style=\"text-align: right;\">\n",
       "      <th></th>\n",
       "      <th>sex</th>\n",
       "      <th>smoker</th>\n",
       "      <th>region</th>\n",
       "      <th>charges_categ</th>\n",
       "      <th>coluna_contagem</th>\n",
       "    </tr>\n",
       "  </thead>\n",
       "  <tbody>\n",
       "    <tr>\n",
       "      <th>0</th>\n",
       "      <td>female</td>\n",
       "      <td>yes</td>\n",
       "      <td>southwest</td>\n",
       "      <td>B - 7,7k até 17k</td>\n",
       "      <td>1</td>\n",
       "    </tr>\n",
       "    <tr>\n",
       "      <th>1</th>\n",
       "      <td>male</td>\n",
       "      <td>no</td>\n",
       "      <td>southeast</td>\n",
       "      <td>A - 1,1k até 7,7k</td>\n",
       "      <td>1</td>\n",
       "    </tr>\n",
       "    <tr>\n",
       "      <th>2</th>\n",
       "      <td>male</td>\n",
       "      <td>no</td>\n",
       "      <td>southeast</td>\n",
       "      <td>A - 1,1k até 7,7k</td>\n",
       "      <td>1</td>\n",
       "    </tr>\n",
       "    <tr>\n",
       "      <th>3</th>\n",
       "      <td>male</td>\n",
       "      <td>no</td>\n",
       "      <td>northwest</td>\n",
       "      <td>C - 17k até 32k</td>\n",
       "      <td>1</td>\n",
       "    </tr>\n",
       "    <tr>\n",
       "      <th>4</th>\n",
       "      <td>male</td>\n",
       "      <td>no</td>\n",
       "      <td>northwest</td>\n",
       "      <td>A - 1,1k até 7,7k</td>\n",
       "      <td>1</td>\n",
       "    </tr>\n",
       "  </tbody>\n",
       "</table>\n",
       "</div>"
      ],
      "text/plain": [
       "      sex smoker     region      charges_categ  coluna_contagem\n",
       "0  female    yes  southwest   B - 7,7k até 17k                1\n",
       "1    male     no  southeast  A - 1,1k até 7,7k                1\n",
       "2    male     no  southeast  A - 1,1k até 7,7k                1\n",
       "3    male     no  northwest    C - 17k até 32k                1\n",
       "4    male     no  northwest  A - 1,1k até 7,7k                1"
      ]
     },
     "execution_count": 39,
     "metadata": {},
     "output_type": "execute_result"
    }
   ],
   "source": [
    "df_var_categ.head()"
   ]
  },
  {
   "cell_type": "markdown",
   "metadata": {},
   "source": [
    "* Calculando o v-cramer (medida baseada no qui-quadrado) entre as variáveis quali\n",
    "    * Mensura a dependência/relação entre as variaveis\n",
    "    * Observa-se que ser fumante e as categorias de gastos são as mais relacionadas"
   ]
  },
  {
   "cell_type": "code",
   "execution_count": 40,
   "metadata": {},
   "outputs": [
    {
     "data": {
      "text/html": [
       "<div>\n",
       "<style scoped>\n",
       "    .dataframe tbody tr th:only-of-type {\n",
       "        vertical-align: middle;\n",
       "    }\n",
       "\n",
       "    .dataframe tbody tr th {\n",
       "        vertical-align: top;\n",
       "    }\n",
       "\n",
       "    .dataframe thead th {\n",
       "        text-align: right;\n",
       "    }\n",
       "</style>\n",
       "<table border=\"1\" class=\"dataframe\">\n",
       "  <thead>\n",
       "    <tr style=\"text-align: right;\">\n",
       "      <th></th>\n",
       "      <th>Var1</th>\n",
       "      <th>Var2</th>\n",
       "      <th>xsq</th>\n",
       "      <th>pvalue</th>\n",
       "      <th>vcramer</th>\n",
       "    </tr>\n",
       "  </thead>\n",
       "  <tbody>\n",
       "    <tr>\n",
       "      <th>5</th>\n",
       "      <td>smoker</td>\n",
       "      <td>charges_categ</td>\n",
       "      <td>916.546177</td>\n",
       "      <td>2.280430e-198</td>\n",
       "      <td>0.827655</td>\n",
       "    </tr>\n",
       "    <tr>\n",
       "      <th>10</th>\n",
       "      <td>charges_categ</td>\n",
       "      <td>smoker</td>\n",
       "      <td>916.546177</td>\n",
       "      <td>2.280430e-198</td>\n",
       "      <td>0.827655</td>\n",
       "    </tr>\n",
       "    <tr>\n",
       "      <th>2</th>\n",
       "      <td>sex</td>\n",
       "      <td>charges_categ</td>\n",
       "      <td>13.584676</td>\n",
       "      <td>3.528616e-03</td>\n",
       "      <td>0.100762</td>\n",
       "    </tr>\n",
       "    <tr>\n",
       "      <th>9</th>\n",
       "      <td>charges_categ</td>\n",
       "      <td>sex</td>\n",
       "      <td>13.584676</td>\n",
       "      <td>3.528616e-03</td>\n",
       "      <td>0.100762</td>\n",
       "    </tr>\n",
       "    <tr>\n",
       "      <th>8</th>\n",
       "      <td>region</td>\n",
       "      <td>charges_categ</td>\n",
       "      <td>27.238199</td>\n",
       "      <td>1.277311e-03</td>\n",
       "      <td>0.082376</td>\n",
       "    </tr>\n",
       "    <tr>\n",
       "      <th>11</th>\n",
       "      <td>charges_categ</td>\n",
       "      <td>region</td>\n",
       "      <td>27.238199</td>\n",
       "      <td>1.277311e-03</td>\n",
       "      <td>0.082376</td>\n",
       "    </tr>\n",
       "    <tr>\n",
       "      <th>0</th>\n",
       "      <td>sex</td>\n",
       "      <td>smoker</td>\n",
       "      <td>7.392911</td>\n",
       "      <td>6.548144e-03</td>\n",
       "      <td>0.074333</td>\n",
       "    </tr>\n",
       "    <tr>\n",
       "      <th>3</th>\n",
       "      <td>smoker</td>\n",
       "      <td>sex</td>\n",
       "      <td>7.392911</td>\n",
       "      <td>6.548144e-03</td>\n",
       "      <td>0.074333</td>\n",
       "    </tr>\n",
       "    <tr>\n",
       "      <th>4</th>\n",
       "      <td>smoker</td>\n",
       "      <td>region</td>\n",
       "      <td>7.343478</td>\n",
       "      <td>6.171955e-02</td>\n",
       "      <td>0.074084</td>\n",
       "    </tr>\n",
       "    <tr>\n",
       "      <th>7</th>\n",
       "      <td>region</td>\n",
       "      <td>smoker</td>\n",
       "      <td>7.343478</td>\n",
       "      <td>6.171955e-02</td>\n",
       "      <td>0.074084</td>\n",
       "    </tr>\n",
       "    <tr>\n",
       "      <th>1</th>\n",
       "      <td>sex</td>\n",
       "      <td>region</td>\n",
       "      <td>0.435137</td>\n",
       "      <td>9.328921e-01</td>\n",
       "      <td>0.018034</td>\n",
       "    </tr>\n",
       "    <tr>\n",
       "      <th>6</th>\n",
       "      <td>region</td>\n",
       "      <td>sex</td>\n",
       "      <td>0.435137</td>\n",
       "      <td>9.328921e-01</td>\n",
       "      <td>0.018034</td>\n",
       "    </tr>\n",
       "  </tbody>\n",
       "</table>\n",
       "</div>"
      ],
      "text/plain": [
       "             Var1           Var2         xsq         pvalue   vcramer\n",
       "5          smoker  charges_categ  916.546177  2.280430e-198  0.827655\n",
       "10  charges_categ         smoker  916.546177  2.280430e-198  0.827655\n",
       "2             sex  charges_categ   13.584676   3.528616e-03  0.100762\n",
       "9   charges_categ            sex   13.584676   3.528616e-03  0.100762\n",
       "8          region  charges_categ   27.238199   1.277311e-03  0.082376\n",
       "11  charges_categ         region   27.238199   1.277311e-03  0.082376\n",
       "0             sex         smoker    7.392911   6.548144e-03  0.074333\n",
       "3          smoker            sex    7.392911   6.548144e-03  0.074333\n",
       "4          smoker         region    7.343478   6.171955e-02  0.074084\n",
       "7          region         smoker    7.343478   6.171955e-02  0.074084\n",
       "1             sex         region    0.435137   9.328921e-01  0.018034\n",
       "6          region            sex    0.435137   9.328921e-01  0.018034"
      ]
     },
     "execution_count": 40,
     "metadata": {},
     "output_type": "execute_result"
    }
   ],
   "source": [
    "from scipy.stats import chi2_contingency\n",
    "CATVAR = ['sex','smoker','region','charges_categ']\n",
    "chimap = pd.DataFrame(columns=['Var1','Var2','xsq','pvalue','vcramer']) \n",
    "for x in CATVAR:\n",
    "    for y in CATVAR:\n",
    "        if x != y:\n",
    "            chi = df_var_categ.pivot_table('coluna_contagem',index= [x],columns= [y] ,aggfunc = 'count')\n",
    "            chi=chi.replace(np.nan,0)\n",
    "            xsq,pvalue,dof,expected=chi2_contingency(chi)\n",
    "            a = min(len(df_var_categ[x].unique()),len(df_var_categ[y].unique()))\n",
    "            b = len(df_var_categ[x])\n",
    "            vcramer = (xsq/(b*(a-1)))**(1/2)\n",
    "            chimap = chimap.append({'Var1' : x, 'Var2' : y, 'xsq': xsq, 'pvalue': pvalue, 'vcramer':vcramer}, ignore_index=True)\n",
    "chimap = chimap.sort_values(by = 'vcramer', ascending = False)\n",
    "chimap"
   ]
  },
  {
   "cell_type": "code",
   "execution_count": 41,
   "metadata": {},
   "outputs": [
    {
     "data": {
      "text/html": [
       "<div>\n",
       "<style scoped>\n",
       "    .dataframe tbody tr th:only-of-type {\n",
       "        vertical-align: middle;\n",
       "    }\n",
       "\n",
       "    .dataframe tbody tr th {\n",
       "        vertical-align: top;\n",
       "    }\n",
       "\n",
       "    .dataframe thead th {\n",
       "        text-align: right;\n",
       "    }\n",
       "</style>\n",
       "<table border=\"1\" class=\"dataframe\">\n",
       "  <thead>\n",
       "    <tr style=\"text-align: right;\">\n",
       "      <th>charges_categ</th>\n",
       "      <th>A - 1,1k até 7,7k</th>\n",
       "      <th>B - 7,7k até 17k</th>\n",
       "      <th>C - 17k até 32k</th>\n",
       "      <th>D - 32k até 64k</th>\n",
       "    </tr>\n",
       "    <tr>\n",
       "      <th>smoker</th>\n",
       "      <th></th>\n",
       "      <th></th>\n",
       "      <th></th>\n",
       "      <th></th>\n",
       "    </tr>\n",
       "  </thead>\n",
       "  <tbody>\n",
       "    <tr>\n",
       "      <th>no</th>\n",
       "      <td>53.007519</td>\n",
       "      <td>39.567669</td>\n",
       "      <td>6.954887</td>\n",
       "      <td>0.469925</td>\n",
       "    </tr>\n",
       "    <tr>\n",
       "      <th>yes</th>\n",
       "      <td>0.000000</td>\n",
       "      <td>8.029197</td>\n",
       "      <td>37.226277</td>\n",
       "      <td>54.744526</td>\n",
       "    </tr>\n",
       "  </tbody>\n",
       "</table>\n",
       "</div>"
      ],
      "text/plain": [
       "charges_categ  A - 1,1k até 7,7k  B - 7,7k até 17k  C - 17k até 32k  \\\n",
       "smoker                                                                \n",
       "no                     53.007519         39.567669         6.954887   \n",
       "yes                     0.000000          8.029197        37.226277   \n",
       "\n",
       "charges_categ  D - 32k até 64k  \n",
       "smoker                          \n",
       "no                    0.469925  \n",
       "yes                  54.744526  "
      ]
     },
     "execution_count": 41,
     "metadata": {},
     "output_type": "execute_result"
    }
   ],
   "source": [
    "freq = pd.crosstab(df_var_categ['smoker'], df_var_categ['charges_categ']).apply(lambda r: r/r.sum()*100, axis=1)\n",
    "freq"
   ]
  },
  {
   "cell_type": "markdown",
   "metadata": {},
   "source": [
    "* Plotando as relações\n",
    "    * Observa-se que as categorias de maior gasto, vermelho e verde, possuem as maiores frequencias relativas na categoria de fumante"
   ]
  },
  {
   "cell_type": "code",
   "execution_count": 42,
   "metadata": {},
   "outputs": [
    {
     "data": {
      "image/png": "[encoded data removed]",
      "text/plain": [
       "<Figure size 720x720 with 1 Axes>"
      ]
     },
     "metadata": {
      "needs_background": "light"
     },
     "output_type": "display_data"
    }
   ],
   "source": [
    "ax_1 = freq.plot.bar(figsize=(10,10),stacked=True, rot=0)\n",
    "plt.legend(bbox_to_anchor=(1.04,1), loc=\"upper left\", title=\"Classes de Gastos\")\n",
    "plt.xlabel('smoker')\n",
    "plt.ylabel('%')\n",
    "plt.show()"
   ]
  },
  {
   "cell_type": "markdown",
   "metadata": {},
   "source": [
    "#### Relação quanti-quali"
   ]
  },
  {
   "cell_type": "code",
   "execution_count": 43,
   "metadata": {},
   "outputs": [],
   "source": [
    "df_var_int_2 = df_var_int.copy()\n",
    "df_var_int_2['charges_categ'] = df_gasto[['charges_categ']]"
   ]
  },
  {
   "cell_type": "code",
   "execution_count": 44,
   "metadata": {},
   "outputs": [
    {
     "data": {
      "text/html": [
       "<div>\n",
       "<style scoped>\n",
       "    .dataframe tbody tr th:only-of-type {\n",
       "        vertical-align: middle;\n",
       "    }\n",
       "\n",
       "    .dataframe tbody tr th {\n",
       "        vertical-align: top;\n",
       "    }\n",
       "\n",
       "    .dataframe thead th {\n",
       "        text-align: right;\n",
       "    }\n",
       "</style>\n",
       "<table border=\"1\" class=\"dataframe\">\n",
       "  <thead>\n",
       "    <tr style=\"text-align: right;\">\n",
       "      <th></th>\n",
       "      <th>age</th>\n",
       "      <th>bmi</th>\n",
       "      <th>children</th>\n",
       "      <th>charges_categ</th>\n",
       "    </tr>\n",
       "  </thead>\n",
       "  <tbody>\n",
       "    <tr>\n",
       "      <th>0</th>\n",
       "      <td>19</td>\n",
       "      <td>27.900</td>\n",
       "      <td>0</td>\n",
       "      <td>B - 7,7k até 17k</td>\n",
       "    </tr>\n",
       "    <tr>\n",
       "      <th>1</th>\n",
       "      <td>18</td>\n",
       "      <td>33.770</td>\n",
       "      <td>1</td>\n",
       "      <td>A - 1,1k até 7,7k</td>\n",
       "    </tr>\n",
       "    <tr>\n",
       "      <th>2</th>\n",
       "      <td>28</td>\n",
       "      <td>33.000</td>\n",
       "      <td>3</td>\n",
       "      <td>A - 1,1k até 7,7k</td>\n",
       "    </tr>\n",
       "    <tr>\n",
       "      <th>3</th>\n",
       "      <td>33</td>\n",
       "      <td>22.705</td>\n",
       "      <td>0</td>\n",
       "      <td>C - 17k até 32k</td>\n",
       "    </tr>\n",
       "    <tr>\n",
       "      <th>4</th>\n",
       "      <td>32</td>\n",
       "      <td>28.880</td>\n",
       "      <td>0</td>\n",
       "      <td>A - 1,1k até 7,7k</td>\n",
       "    </tr>\n",
       "  </tbody>\n",
       "</table>\n",
       "</div>"
      ],
      "text/plain": [
       "   age     bmi  children      charges_categ\n",
       "0   19  27.900         0   B - 7,7k até 17k\n",
       "1   18  33.770         1  A - 1,1k até 7,7k\n",
       "2   28  33.000         3  A - 1,1k até 7,7k\n",
       "3   33  22.705         0    C - 17k até 32k\n",
       "4   32  28.880         0  A - 1,1k até 7,7k"
      ]
     },
     "execution_count": 44,
     "metadata": {},
     "output_type": "execute_result"
    }
   ],
   "source": [
    "df_var_int_2.head()"
   ]
  },
  {
   "cell_type": "code",
   "execution_count": 45,
   "metadata": {},
   "outputs": [],
   "source": [
    "#Cria lista de variaveis qualitativas e quantitativas\n",
    "CATVAR = df_var_int_2.select_dtypes(include=['object']).columns.tolist()\n",
    "NUMVAR = df_var_int_2.select_dtypes(include=['float64','int64']).columns.tolist()"
   ]
  },
  {
   "cell_type": "markdown",
   "metadata": {},
   "source": [
    "* Calculando o R2\n",
    "    * A maior relação é com a variavel de idade"
   ]
  },
  {
   "cell_type": "code",
   "execution_count": 46,
   "metadata": {},
   "outputs": [
    {
     "data": {
      "text/html": [
       "<div>\n",
       "<style scoped>\n",
       "    .dataframe tbody tr th:only-of-type {\n",
       "        vertical-align: middle;\n",
       "    }\n",
       "\n",
       "    .dataframe tbody tr th {\n",
       "        vertical-align: top;\n",
       "    }\n",
       "\n",
       "    .dataframe thead th {\n",
       "        text-align: right;\n",
       "    }\n",
       "</style>\n",
       "<table border=\"1\" class=\"dataframe\">\n",
       "  <thead>\n",
       "    <tr style=\"text-align: right;\">\n",
       "      <th></th>\n",
       "      <th>VarQuanti</th>\n",
       "      <th>VarQuali</th>\n",
       "      <th>var*n / n_total</th>\n",
       "      <th>R2</th>\n",
       "    </tr>\n",
       "  </thead>\n",
       "  <tbody>\n",
       "    <tr>\n",
       "      <th>0</th>\n",
       "      <td>age</td>\n",
       "      <td>charges_categ</td>\n",
       "      <td>110.453594</td>\n",
       "      <td>0.440462</td>\n",
       "    </tr>\n",
       "    <tr>\n",
       "      <th>1</th>\n",
       "      <td>bmi</td>\n",
       "      <td>charges_categ</td>\n",
       "      <td>34.060277</td>\n",
       "      <td>0.084103</td>\n",
       "    </tr>\n",
       "    <tr>\n",
       "      <th>2</th>\n",
       "      <td>children</td>\n",
       "      <td>charges_categ</td>\n",
       "      <td>1.450310</td>\n",
       "      <td>0.001998</td>\n",
       "    </tr>\n",
       "  </tbody>\n",
       "</table>\n",
       "</div>"
      ],
      "text/plain": [
       "  VarQuanti       VarQuali  var*n / n_total        R2\n",
       "0       age  charges_categ       110.453594  0.440462\n",
       "1       bmi  charges_categ        34.060277  0.084103\n",
       "2  children  charges_categ         1.450310  0.001998"
      ]
     },
     "execution_count": 46,
     "metadata": {},
     "output_type": "execute_result"
    }
   ],
   "source": [
    "# Calculando o R2\n",
    "r2 = pd.DataFrame(columns=['VarQuanti','VarQuali','var*n / n_total','R2'])\n",
    "for z in NUMVAR:\n",
    "    for x in CATVAR:\n",
    "        dfr = df_var_int_2[x].value_counts().reset_index()\n",
    "        f = 0\n",
    "        a1 = 0\n",
    "        for y in range(len(dfr)):\n",
    "            a = dfr.iloc[y,1]\n",
    "            a1 = a1 + a\n",
    "            c = (df_var_int_2[df_var_int_2[x] == dfr.iloc[y,0]])\n",
    "            e = (c[z].var())*a\n",
    "            f = f + e\n",
    "        f = f/a1\n",
    "        r2_calc = 1 - (f/df[z].var())\n",
    "        r2 = r2.append({'VarQuanti' : z, 'VarQuali' : x,'var*n / n_total' : f, 'R2' : r2_calc}, ignore_index=True)\n",
    "r2 = r2.sort_values(by = 'R2', ascending = False)\n",
    "r2"
   ]
  },
  {
   "cell_type": "markdown",
   "metadata": {},
   "source": [
    "* Plotando a relação\n",
    "    * Observa-se que, principalmente, os valores mais baixos de gasto sao de menores idades, e a segunda faixa mais baixa possuem as maiores idades\n",
    "    * As duas maiores faixas de gastos possuem alta dispersão na idade, sendo influenciado por outras variaveis"
   ]
  },
  {
   "cell_type": "code",
   "execution_count": 47,
   "metadata": {},
   "outputs": [
    {
     "data": {
      "image/png": "[encoded data removed]",
      "text/plain": [
       "<Figure size 432x288 with 1 Axes>"
      ]
     },
     "metadata": {
      "needs_background": "light"
     },
     "output_type": "display_data"
    }
   ],
   "source": [
    "sns.boxplot(x=\"charges_categ\", y=\"age\", \n",
    "            order=[\"A - 1,1k até 7,7k\",\"B - 7,7k até 17k\",\"C - 17k até 32k\",\"D - 32k até 64k\"]\n",
    "            ,data=df_var_int_2, palette=\"Set1\")\n",
    "plt.xticks(rotation=90)\n",
    "plt.show()"
   ]
  },
  {
   "cell_type": "code",
   "execution_count": null,
   "metadata": {},
   "outputs": [],
   "source": []
  },
  {
   "cell_type": "markdown",
   "metadata": {},
   "source": [
    "* Verificando a importância de variável pelo modelo de árvore"
   ]
  },
  {
   "cell_type": "code",
   "execution_count": 48,
   "metadata": {},
   "outputs": [],
   "source": [
    "from sklearn.ensemble import RandomForestClassifier"
   ]
  },
  {
   "cell_type": "code",
   "execution_count": 49,
   "metadata": {},
   "outputs": [],
   "source": [
    "df_gasto2 = df_gasto[['charges_categ']]\n",
    "df_var = df[['age','sex','bmi','children','smoker','region']]"
   ]
  },
  {
   "cell_type": "code",
   "execution_count": 50,
   "metadata": {},
   "outputs": [],
   "source": [
    "df_gasto2['charges_categ_'] = df_gasto2.charges_categ.cat.codes"
   ]
  },
  {
   "cell_type": "code",
   "execution_count": 51,
   "metadata": {},
   "outputs": [
    {
     "data": {
      "text/html": [
       "<div>\n",
       "<style scoped>\n",
       "    .dataframe tbody tr th:only-of-type {\n",
       "        vertical-align: middle;\n",
       "    }\n",
       "\n",
       "    .dataframe tbody tr th {\n",
       "        vertical-align: top;\n",
       "    }\n",
       "\n",
       "    .dataframe thead th {\n",
       "        text-align: right;\n",
       "    }\n",
       "</style>\n",
       "<table border=\"1\" class=\"dataframe\">\n",
       "  <thead>\n",
       "    <tr style=\"text-align: right;\">\n",
       "      <th></th>\n",
       "      <th>charges_categ</th>\n",
       "      <th>charges_categ_</th>\n",
       "    </tr>\n",
       "  </thead>\n",
       "  <tbody>\n",
       "    <tr>\n",
       "      <th>0</th>\n",
       "      <td>B - 7,7k até 17k</td>\n",
       "      <td>1</td>\n",
       "    </tr>\n",
       "    <tr>\n",
       "      <th>1</th>\n",
       "      <td>A - 1,1k até 7,7k</td>\n",
       "      <td>0</td>\n",
       "    </tr>\n",
       "    <tr>\n",
       "      <th>2</th>\n",
       "      <td>A - 1,1k até 7,7k</td>\n",
       "      <td>0</td>\n",
       "    </tr>\n",
       "    <tr>\n",
       "      <th>3</th>\n",
       "      <td>C - 17k até 32k</td>\n",
       "      <td>2</td>\n",
       "    </tr>\n",
       "    <tr>\n",
       "      <th>4</th>\n",
       "      <td>A - 1,1k até 7,7k</td>\n",
       "      <td>0</td>\n",
       "    </tr>\n",
       "  </tbody>\n",
       "</table>\n",
       "</div>"
      ],
      "text/plain": [
       "       charges_categ  charges_categ_\n",
       "0   B - 7,7k até 17k               1\n",
       "1  A - 1,1k até 7,7k               0\n",
       "2  A - 1,1k até 7,7k               0\n",
       "3    C - 17k até 32k               2\n",
       "4  A - 1,1k até 7,7k               0"
      ]
     },
     "execution_count": 51,
     "metadata": {},
     "output_type": "execute_result"
    }
   ],
   "source": [
    "df_gasto2.head()"
   ]
  },
  {
   "cell_type": "code",
   "execution_count": 52,
   "metadata": {},
   "outputs": [],
   "source": [
    "df_gasto2.drop('charges_categ', axis=1, inplace=True)"
   ]
  },
  {
   "cell_type": "code",
   "execution_count": 53,
   "metadata": {},
   "outputs": [],
   "source": [
    "X_train, X_test, y_train, y_test = train_test_split(df_var,df_gasto2, test_size=0.30, random_state=65)"
   ]
  },
  {
   "cell_type": "code",
   "execution_count": 54,
   "metadata": {},
   "outputs": [],
   "source": [
    "for x in ['sex','smoker','region']:\n",
    "    X_train = pd.get_dummies(X_train,columns=[x])\n",
    "    X_test = pd.get_dummies(X_test,columns=[x])"
   ]
  },
  {
   "cell_type": "code",
   "execution_count": 55,
   "metadata": {},
   "outputs": [
    {
     "data": {
      "text/plain": [
       "GridSearchCV(cv=10, error_score=nan,\n",
       "             estimator=RandomForestClassifier(bootstrap=True, ccp_alpha=0.0,\n",
       "                                              class_weight=None,\n",
       "                                              criterion='gini', max_depth=None,\n",
       "                                              max_features='auto',\n",
       "                                              max_leaf_nodes=None,\n",
       "                                              max_samples=None,\n",
       "                                              min_impurity_decrease=0.0,\n",
       "                                              min_impurity_split=None,\n",
       "                                              min_samples_leaf=1,\n",
       "                                              min_samples_split=2,\n",
       "                                              min_weight_fraction_leaf=0.0,\n",
       "                                              n_estimators=3000, n_jobs=None,\n",
       "                                              oob_score=False,\n",
       "                                              random_state=61658, verbose=0,\n",
       "                                              warm_start=False),\n",
       "             iid='deprecated', n_jobs=None,\n",
       "             param_grid={'criterion': ['gini', 'entropy'],\n",
       "                         'max_features': [2, 3],\n",
       "                         'max_leaf_nodes': [4, 8, 16, 32, 64]},\n",
       "             pre_dispatch='2*n_jobs', refit=True, return_train_score=False,\n",
       "             scoring='roc_auc_ovr_weighted', verbose=0)"
      ]
     },
     "execution_count": 55,
     "metadata": {},
     "output_type": "execute_result"
    }
   ],
   "source": [
    "# Configurando os hiperparametros da Random Forest\n",
    "parametros = {'max_leaf_nodes': [4,8,16,32,64], 'criterion': ['gini','entropy'], 'max_features' : [2,3]}\n",
    "rf = GridSearchCV(\n",
    "    RandomForestClassifier(n_estimators=3000, random_state=61658),\n",
    "    parametros,\n",
    "    scoring = 'roc_auc_ovr_weighted',\n",
    "    cv=10)\n",
    "rf.fit(X_train,y_train)"
   ]
  },
  {
   "cell_type": "code",
   "execution_count": 56,
   "metadata": {},
   "outputs": [
    {
     "name": "stdout",
     "output_type": "stream",
     "text": [
      "{'criterion': 'entropy', 'max_features': 3, 'max_leaf_nodes': 64}\n",
      "0.9440522070258712\n"
     ]
    }
   ],
   "source": [
    "# Verificando os melhores hiperparametros e o ROC AUC no treino\n",
    "print(rf.best_params_)\n",
    "print(rf.best_score_)"
   ]
  },
  {
   "cell_type": "code",
   "execution_count": 57,
   "metadata": {},
   "outputs": [
    {
     "name": "stdout",
     "output_type": "stream",
     "text": [
      "0.9228013069768627\n"
     ]
    }
   ],
   "source": [
    "# Calculo do ROC AUC Score nos dados de teste\n",
    "from sklearn.metrics import roc_auc_score\n",
    "print(roc_auc_score(y_test, rf.predict_proba(X_test), average='weighted', multi_class='ovr'))"
   ]
  },
  {
   "cell_type": "markdown",
   "metadata": {},
   "source": [
    "* Identificando a importancia de variaveis\n",
    "    * Idade é a principal\n",
    "    * Ser fumante e BMI são as secundárias"
   ]
  },
  {
   "cell_type": "code",
   "execution_count": 58,
   "metadata": {},
   "outputs": [
    {
     "name": "stdout",
     "output_type": "stream",
     "text": [
      "age                                                0.3889\n",
      "smoker_yes                                         0.1830\n",
      "smoker_no                                          0.1821\n",
      "bmi                                                0.1537\n",
      "children                                           0.0428\n",
      "region_southeast                                   0.0098\n",
      "region_northeast                                   0.0088\n",
      "sex_male                                           0.0082\n",
      "region_southwest                                   0.0080\n",
      "sex_female                                         0.0079\n",
      "region_northwest                                   0.0068\n"
     ]
    }
   ],
   "source": [
    "imps = rf.best_estimator_.feature_importances_\n",
    "cols = X_train.columns\n",
    "order= np.argsort(imps)[::-1]\n",
    "\n",
    "for col,imp in zip(cols[order],imps[order]):\n",
    "    print(f'{col:50s} {imp:.4f}')"
   ]
  },
  {
   "cell_type": "code",
   "execution_count": null,
   "metadata": {},
   "outputs": [],
   "source": []
  }
 ],
 "metadata": {
  "kernelspec": {
   "display_name": "Python 3",
   "language": "python",
   "name": "python3"
  },
  "language_info": {
   "codemirror_mode": {
    "name": "ipython",
    "version": 3
   },
   "file_extension": ".py",
   "mimetype": "text/x-python",
   "name": "python",
   "nbconvert_exporter": "python",
   "pygments_lexer": "ipython3",
   "version": "3.7.1"
  }
 },
 "nbformat": 4,
 "nbformat_minor": 4
}
