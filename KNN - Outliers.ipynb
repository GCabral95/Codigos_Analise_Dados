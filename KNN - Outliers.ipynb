{
 "cells": [
  {
   "cell_type": "code",
   "execution_count": 25,
   "id": "b4ee14a8",
   "metadata": {},
   "outputs": [],
   "source": [
    "import numpy as np\n",
    "import pandas as pd\n",
    "import matplotlib.pyplot as plt\n",
    "from sklearn.neighbors import NearestNeighbors"
   ]
  },
  {
   "cell_type": "code",
   "execution_count": 26,
   "id": "ad5e31fc",
   "metadata": {},
   "outputs": [],
   "source": [
    "np.random.seed(42)\n",
    "\n",
    "# Gerando base com 04 variaveis - distribuicao normal com media 0 e desvio 1\n",
    "n_samples = 300\n",
    "X_normal = np.random.normal(loc=0, scale=1, size=(n_samples, 4))\n",
    "\n",
    "# Colocando 10 outliers (distribuicao uniforme entre -5 e 5) nas variaveis\n",
    "n_outliers = 10\n",
    "X_outliers = np.random.uniform(low=-5, high=5, size=(n_outliers, 4))\n",
    "\n",
    "# Unindo os outliers a base\n",
    "X = np.vstack([X_normal, X_outliers])\n",
    "\n",
    "# Mostrando o dataframe final\n",
    "df = pd.DataFrame(X, columns=['X1', 'X2', 'X3', 'X4'])"
   ]
  },
  {
   "cell_type": "code",
   "execution_count": 27,
   "id": "cf4fdecd",
   "metadata": {},
   "outputs": [
    {
     "data": {
      "text/html": [
       "<div>\n",
       "<style scoped>\n",
       "    .dataframe tbody tr th:only-of-type {\n",
       "        vertical-align: middle;\n",
       "    }\n",
       "\n",
       "    .dataframe tbody tr th {\n",
       "        vertical-align: top;\n",
       "    }\n",
       "\n",
       "    .dataframe thead th {\n",
       "        text-align: right;\n",
       "    }\n",
       "</style>\n",
       "<table border=\"1\" class=\"dataframe\">\n",
       "  <thead>\n",
       "    <tr style=\"text-align: right;\">\n",
       "      <th></th>\n",
       "      <th>X1</th>\n",
       "      <th>X2</th>\n",
       "      <th>X3</th>\n",
       "      <th>X4</th>\n",
       "    </tr>\n",
       "  </thead>\n",
       "  <tbody>\n",
       "    <tr>\n",
       "      <th>0</th>\n",
       "      <td>0.496714</td>\n",
       "      <td>-0.138264</td>\n",
       "      <td>0.647689</td>\n",
       "      <td>1.523030</td>\n",
       "    </tr>\n",
       "    <tr>\n",
       "      <th>1</th>\n",
       "      <td>-0.234153</td>\n",
       "      <td>-0.234137</td>\n",
       "      <td>1.579213</td>\n",
       "      <td>0.767435</td>\n",
       "    </tr>\n",
       "    <tr>\n",
       "      <th>2</th>\n",
       "      <td>-0.469474</td>\n",
       "      <td>0.542560</td>\n",
       "      <td>-0.463418</td>\n",
       "      <td>-0.465730</td>\n",
       "    </tr>\n",
       "    <tr>\n",
       "      <th>3</th>\n",
       "      <td>0.241962</td>\n",
       "      <td>-1.913280</td>\n",
       "      <td>-1.724918</td>\n",
       "      <td>-0.562288</td>\n",
       "    </tr>\n",
       "    <tr>\n",
       "      <th>4</th>\n",
       "      <td>-1.012831</td>\n",
       "      <td>0.314247</td>\n",
       "      <td>-0.908024</td>\n",
       "      <td>-1.412304</td>\n",
       "    </tr>\n",
       "  </tbody>\n",
       "</table>\n",
       "</div>"
      ],
      "text/plain": [
       "         X1        X2        X3        X4\n",
       "0  0.496714 -0.138264  0.647689  1.523030\n",
       "1 -0.234153 -0.234137  1.579213  0.767435\n",
       "2 -0.469474  0.542560 -0.463418 -0.465730\n",
       "3  0.241962 -1.913280 -1.724918 -0.562288\n",
       "4 -1.012831  0.314247 -0.908024 -1.412304"
      ]
     },
     "execution_count": 27,
     "metadata": {},
     "output_type": "execute_result"
    }
   ],
   "source": [
    "df.head()"
   ]
  },
  {
   "cell_type": "code",
   "execution_count": 28,
   "id": "88fc637c",
   "metadata": {},
   "outputs": [],
   "source": [
    "# Numero de vizinhos mais proximos que vamos calcular para cada observacao\n",
    "K = 10\n",
    "\n",
    "# Aplicando o algoritmo\n",
    "nbrs = NearestNeighbors(n_neighbors=K, metric='euclidean').fit(X)\n",
    "\n",
    "# Retorna a distância de cada vizinho mais proximos calculado de cada ponto\n",
    "distances, _ = nbrs.kneighbors(X)\n",
    "\n",
    "# Calcula a media da distancias dos K vizinhos mais proximos de cada ponto\n",
    "knn_distance = distances.mean(axis=1) "
   ]
  },
  {
   "cell_type": "code",
   "execution_count": 29,
   "id": "7f16cbfe",
   "metadata": {},
   "outputs": [],
   "source": [
    "# Define um criterio para selecionar os outliers, neste caso, os 5% dos pontos que estão mais longes dos seus vizinhos mais proximos\n",
    "threshold = np.percentile(knn_distance, 95)\n",
    "\n",
    "# Seleciona os outliers (indices)\n",
    "outlier_indices = np.where(knn_distance > threshold)[0]"
   ]
  },
  {
   "cell_type": "code",
   "execution_count": 30,
   "id": "7cf3a686",
   "metadata": {},
   "outputs": [
    {
     "data": {
      "text/plain": [
       "array([ 52,  55,  65, 167, 265, 275, 290, 300, 301, 302, 303, 304, 305,\n",
       "       306, 307, 309], dtype=int64)"
      ]
     },
     "execution_count": 30,
     "metadata": {},
     "output_type": "execute_result"
    }
   ],
   "source": [
    "outlier_indices"
   ]
  },
  {
   "cell_type": "code",
   "execution_count": 31,
   "id": "3c4b33c2",
   "metadata": {},
   "outputs": [
    {
     "data": {
      "text/plain": [
       "array([[ 0.51504769,  3.85273149,  0.57089051,  1.13556564],\n",
       "       [ 2.31465857, -1.86726519,  0.68626019, -1.61271587],\n",
       "       [-0.92693047, -0.05952536, -3.24126734, -1.02438764],\n",
       "       [-2.65096981,  1.09150685,  1.24608519, -2.07339023],\n",
       "       [ 0.77169871, -2.84854262,  1.1487657 , -1.73971378],\n",
       "       [ 0.99801011, -2.89625538,  2.0883747 , -0.13958963],\n",
       "       [-2.49940571,  2.29094257, -1.38957247, -1.64539875],\n",
       "       [-4.56587467,  1.33151376,  4.51403342,  1.0161182 ],\n",
       "       [ 3.19188859,  3.84206463, -2.71920228, -2.8795516 ],\n",
       "       [ 1.10980989, -0.8897153 ,  3.39861303,  4.00023123],\n",
       "       [-1.46578621, -2.63129441,  2.80525515, -2.25193964],\n",
       "       [ 3.22614319, -0.76261746,  1.67549899, -4.04464686],\n",
       "       [ 1.23859325, -0.48232321,  0.86608463, -3.31985792],\n",
       "       [ 2.36873745,  3.62797078, -2.832602  , -4.04285444],\n",
       "       [-4.76361414,  1.419715  ,  1.07094036,  0.46697413],\n",
       "       [ 4.8778552 , -3.63560247,  1.95144554, -0.95681232]])"
      ]
     },
     "execution_count": 31,
     "metadata": {},
     "output_type": "execute_result"
    }
   ],
   "source": [
    "X[outlier_indices]"
   ]
  },
  {
   "cell_type": "code",
   "execution_count": null,
   "id": "16a27ead",
   "metadata": {},
   "outputs": [],
   "source": []
  }
 ],
 "metadata": {
  "kernelspec": {
   "display_name": "Python 3 (ipykernel)",
   "language": "python",
   "name": "python3"
  },
  "language_info": {
   "codemirror_mode": {
    "name": "ipython",
    "version": 3
   },
   "file_extension": ".py",
   "mimetype": "text/x-python",
   "name": "python",
   "nbconvert_exporter": "python",
   "pygments_lexer": "ipython3",
   "version": "3.11.0"
  }
 },
 "nbformat": 4,
 "nbformat_minor": 5
}
